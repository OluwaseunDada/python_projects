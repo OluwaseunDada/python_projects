{
 "cells": [
  {
   "cell_type": "code",
   "execution_count": 1,
   "metadata": {},
   "outputs": [],
   "source": [
    "# https://www.youtube.com/watch?v=x7SwgcpACng&list=PLB5jA40tNf3tRMbTpBA0N7lfDZNLZAa9G&index=1\n",
    "\n",
    "import mysql.connector"
   ]
  },
  {
   "cell_type": "code",
   "execution_count": 2,
   "metadata": {},
   "outputs": [],
   "source": [
    "connection = mysql.connector.connect(\n",
    "   host=\"localhost\",\n",
    "   port=\"3308\",\n",
    "   user=\"root\",\n",
    "   passwd=\"root\"\n",
    ")"
   ]
  },
  {
   "cell_type": "code",
   "execution_count": 3,
   "metadata": {},
   "outputs": [
    {
     "name": "stdout",
     "output_type": "stream",
     "text": [
      "<mysql.connector.connection_cext.CMySQLConnection object at 0x000002020524F198>\n"
     ]
    }
   ],
   "source": [
    "print(connection)"
   ]
  },
  {
   "cell_type": "code",
   "execution_count": 4,
   "metadata": {},
   "outputs": [],
   "source": [
    "#initialise cursor\n",
    "cursor = connection.cursor()"
   ]
  },
  {
   "cell_type": "markdown",
   "metadata": {},
   "source": [
    "# create a database"
   ]
  },
  {
   "cell_type": "code",
   "execution_count": 5,
   "metadata": {},
   "outputs": [
    {
     "name": "stdout",
     "output_type": "stream",
     "text": [
      "('dbname',)\n",
      "('employees',)\n",
      "('information_schema',)\n",
      "('mysql',)\n",
      "('performance_schema',)\n",
      "('sys',)\n",
      "('test_alexi_db',)\n"
     ]
    }
   ],
   "source": [
    "\n",
    "# create test_alexi_db database\n",
    "db_name = \"test_alexi_db\"\n",
    "cursor.execute(\"CREATE DATABASE IF NOT EXISTS \" + db_name)\n",
    "\n",
    "# show all databases\n",
    "cursor.execute(\"SHOW DATABASES\")\n",
    "\n",
    "for db in cursor:\n",
    "    print(db)\n",
    "    \n",
    "\n",
    "# terminate connection and cursor\n",
    "cursor.close()\n",
    "connection.close()"
   ]
  },
  {
   "cell_type": "markdown",
   "metadata": {},
   "source": [
    "# create a table in the database"
   ]
  },
  {
   "cell_type": "code",
   "execution_count": 6,
   "metadata": {},
   "outputs": [],
   "source": [
    "# reconnect now using the newly created database\n",
    "connection2 = mysql.connector.connect(\n",
    "   host=\"localhost\",\n",
    "   port=\"3308\",\n",
    "   database= db_name,\n",
    "   user=\"root\",\n",
    "   passwd=\"root\"\n",
    ")\n",
    "\n",
    "# re-initialise cursor\n",
    "cursor2 = connection2.cursor()"
   ]
  },
  {
   "cell_type": "code",
   "execution_count": 7,
   "metadata": {},
   "outputs": [
    {
     "name": "stdout",
     "output_type": "stream",
     "text": [
      "('students',)\n"
     ]
    }
   ],
   "source": [
    "cursor2.execute(\"CREATE TABLE IF NOT EXISTS students (name VARCHAR(255) UNIQUE, age INTEGER(10) UNIQUE)\")\n",
    "\n",
    "# show all tables\n",
    "cursor2.execute(\"SHOW TABLES\")\n",
    "for tb in cursor2:\n",
    "    print(tb)\n",
    "    \n"
   ]
  },
  {
   "cell_type": "markdown",
   "metadata": {},
   "source": [
    "# populate the database with python"
   ]
  },
  {
   "cell_type": "code",
   "execution_count": 8,
   "metadata": {},
   "outputs": [],
   "source": [
    "sql_string = \"INSERT IGNORE INTO students (name, age) VALUES (%s, %s)\" \n",
    "student1 = (\"Rachel\", \"22\")\n"
   ]
  },
  {
   "cell_type": "code",
   "execution_count": 9,
   "metadata": {},
   "outputs": [],
   "source": [
    "cursor2.execute(sql_string, student1)\n",
    "connection2.commit()"
   ]
  },
  {
   "cell_type": "code",
   "execution_count": 10,
   "metadata": {},
   "outputs": [],
   "source": [
    "# assuming arrays of students are not be entered into the database\n",
    "student_array = [\n",
    "    (\"Sogo\", \"38\"),\n",
    "    (\"Mike\", \"41\"),\n",
    "    (\"Olu\", \"16\"),\n",
    "    (\"Kanu\", \"33\"),\n",
    "    (\"Kai\", \"41\"),\n",
    "    (\"Dada\", \"20\"),\n",
    "    (\"Muku\", \"18\"),\n",
    "    (\"Isa\", \"29\"),\n",
    "    (\"Jerome\", \"31\")\n",
    "]\n",
    "\n",
    "cursor2.executemany(sql_string, student_array)\n",
    "connection2.commit()"
   ]
  },
  {
   "cell_type": "markdown",
   "metadata": {},
   "source": [
    "# select and read data from the database"
   ]
  },
  {
   "cell_type": "code",
   "execution_count": 11,
   "metadata": {},
   "outputs": [
    {
     "name": "stdout",
     "output_type": "stream",
     "text": [
      "('Rachel', 22)\n",
      "('Sogo', 38)\n",
      "('Mike', 41)\n",
      "('Olu', 16)\n",
      "('Kanu', 33)\n",
      "('Dada', 20)\n",
      "('Muku', 18)\n",
      "('Isa', 29)\n",
      "('Jerome', 31)\n"
     ]
    }
   ],
   "source": [
    "cursor2.execute(\"SELECT * FROM students\")\n",
    "result = cursor2.fetchall()\n",
    "\n",
    "for record in result:\n",
    "    print(record)"
   ]
  },
  {
   "cell_type": "code",
   "execution_count": 12,
   "metadata": {},
   "outputs": [
    {
     "name": "stdout",
     "output_type": "stream",
     "text": [
      "(16,)\n",
      "(18,)\n",
      "(20,)\n",
      "(22,)\n",
      "(29,)\n",
      "(31,)\n",
      "(33,)\n",
      "(38,)\n",
      "(41,)\n"
     ]
    }
   ],
   "source": [
    "# query a specific column\n",
    "cursor2.execute(\"SELECT age FROM students\")\n",
    "result = cursor2.fetchall()\n",
    "\n",
    "for record in result:\n",
    "    print(record)"
   ]
  },
  {
   "cell_type": "code",
   "execution_count": 13,
   "metadata": {},
   "outputs": [
    {
     "name": "stdout",
     "output_type": "stream",
     "text": [
      "('Dada',)\n",
      "('Isa',)\n",
      "('Jerome',)\n",
      "('Kanu',)\n",
      "('Mike',)\n",
      "('Muku',)\n",
      "('Olu',)\n",
      "('Rachel',)\n",
      "('Sogo',)\n"
     ]
    }
   ],
   "source": [
    "# query a specific column\n",
    "cursor2.execute(\"SELECT name FROM students\")\n",
    "result = cursor2.fetchall()\n",
    "\n",
    "for record in result:\n",
    "    print(record)"
   ]
  },
  {
   "cell_type": "code",
   "execution_count": 15,
   "metadata": {},
   "outputs": [
    {
     "name": "stdout",
     "output_type": "stream",
     "text": [
      "Dada\n"
     ]
    }
   ],
   "source": [
    "# fetch only one item from the result\n",
    "cursor2.execute(\"SELECT name FROM students\")\n",
    "result = cursor2.fetchone()\n",
    "\n",
    "for record in result:\n",
    "    print(record)"
   ]
  },
  {
   "cell_type": "code",
   "execution_count": null,
   "metadata": {},
   "outputs": [],
   "source": []
  },
  {
   "cell_type": "code",
   "execution_count": null,
   "metadata": {},
   "outputs": [],
   "source": []
  },
  {
   "cell_type": "code",
   "execution_count": null,
   "metadata": {},
   "outputs": [],
   "source": []
  }
 ],
 "metadata": {
  "kernelspec": {
   "display_name": "Python 3",
   "language": "python",
   "name": "python3"
  },
  "language_info": {
   "codemirror_mode": {
    "name": "ipython",
    "version": 3
   },
   "file_extension": ".py",
   "mimetype": "text/x-python",
   "name": "python",
   "nbconvert_exporter": "python",
   "pygments_lexer": "ipython3",
   "version": "3.6.5"
  }
 },
 "nbformat": 4,
 "nbformat_minor": 2
}
