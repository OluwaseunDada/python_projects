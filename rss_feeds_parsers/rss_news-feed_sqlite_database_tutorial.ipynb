{
 "cells": [
  {
   "cell_type": "raw",
   "metadata": {},
   "source": [
    "https://sebastianraschka.com/Articles/2014_sqlite_in_python_tutorial.html"
   ]
  },
  {
   "cell_type": "code",
   "execution_count": 2,
   "metadata": {},
   "outputs": [],
   "source": [
    "import sqlite3"
   ]
  },
  {
   "cell_type": "markdown",
   "metadata": {},
   "source": [
    "# Creating a new SQLite database\n",
    "Let us have a look at some example code to create a new SQLite database file with two tables: One with and one without a PRIMARY KEY column (don’t worry, there is more information about PRIMARY KEYs further down in this section)."
   ]
  },
  {
   "cell_type": "code",
   "execution_count": 3,
   "metadata": {},
   "outputs": [],
   "source": [
    "sqlite_file = 'rss_news-feed_db.sqlite'    # name of the sqlite database file\n",
    "table_name1 = 'all_news_table'  # name of the table to be created\n",
    "table_name2 = 'sports_news_table'  # name of the table to be created\n",
    "new_field = 'p_column' # name of the column\n",
    "field_type = 'INTEGER'  # column data type\n",
    "\n",
    "# Connecting to the database file\n",
    "conn = sqlite3.connect(sqlite_file)\n",
    "c = conn.cursor()\n",
    "\n",
    "# Creating a new SQLite table with 1 column\n",
    "c.execute('CREATE TABLE {tn} ({nf} {ft})'\\\n",
    "        .format(tn=table_name1, nf=new_field, ft=field_type))\n",
    "\n",
    "# Creating a second table with 1 column and set it as PRIMARY KEY\n",
    "# note that PRIMARY KEY column must consist of unique values!\n",
    "c.execute('CREATE TABLE {tn} ({nf} {ft} PRIMARY KEY)'\\\n",
    "        .format(tn=table_name2, nf=new_field, ft=field_type))\n",
    "\n",
    "# Committing changes and closing the connection to the database file\n",
    "conn.commit()\n",
    "conn.close()"
   ]
  },
  {
   "cell_type": "markdown",
   "metadata": {},
   "source": [
    "# Adding new columns\n",
    "If we want to add a new column to an existing SQLite database table, we can either leave the cells for each row empty (NULL value), or we can set a default value for each cell, which is pretty convenient for certain applications.\n",
    "Let’s have a look at some code:"
   ]
  },
  {
   "cell_type": "code",
   "execution_count": 6,
   "metadata": {},
   "outputs": [],
   "source": [
    "sqlite_file = 'rss_news-feed_db.sqlite'    # name of the sqlite database file\n",
    "table_name = 'sports_news_table'  # name of the table to be created\n",
    "\n",
    "new_column1 = 'my_2nd_column'  # name of the new column\n",
    "new_column2 = 'my_3nd_column'  # name of the new column\n",
    "column_type = 'TEXT' # E.g., INTEGER, TEXT, NULL, REAL, BLOB\n",
    "default_val = 'Hello World' # a default value for the new column rows\n",
    "\n",
    "# Connecting to the database file\n",
    "conn = sqlite3.connect(sqlite_file)\n",
    "c = conn.cursor()\n",
    "\n",
    "# A) Adding a new column without a row value\n",
    "c.execute(\"ALTER TABLE {tn} ADD COLUMN '{cn}' {ct}\"\\\n",
    "        .format(tn=table_name, cn=new_column1, ct=column_type))\n",
    "\n",
    "# B) Adding a new column with a default row value\n",
    "c.execute(\"ALTER TABLE {tn} ADD COLUMN '{cn}' {ct} DEFAULT '{df}'\"\\\n",
    "        .format(tn=table_name, cn=new_column2, ct=column_type, df=default_val))\n",
    "\n",
    "# Committing changes and closing the connection to the database file\n",
    "conn.commit()\n",
    "conn.close()"
   ]
  },
  {
   "cell_type": "code",
   "execution_count": null,
   "metadata": {},
   "outputs": [],
   "source": []
  },
  {
   "cell_type": "markdown",
   "metadata": {},
   "source": [
    "# Inserting and updating rows\n",
    "Inserting and updating rows into an existing SQLite database table - next to sending queries - is probably the most common database operation. The Structured Query Language has a convenient UPSERT function, which is basically just a merge between UPDATE and INSERT: It inserts new rows into a database table with a value for the PRIMARY KEY column if it does not exist yet, or updates a row for an existing PRIMARY KEY value. Unfortunately, this convenient syntax is not supported by the more compact SQLite database implementation that we are using here. However, there are some workarounds. But let us first have a look at the example code:"
   ]
  },
  {
   "cell_type": "code",
   "execution_count": 10,
   "metadata": {},
   "outputs": [],
   "source": [
    "sqlite_file = 'rss_news-feed_db.sqlite'    # name of the sqlite database file\n",
    "table_name = 'sports_news_table'  # name of the table to be created\n",
    "\n",
    "new_column1 = 'my_2nd_column'  # name of the new column\n",
    "new_column2 = 'my_3nd_column'  # name of the new column\n",
    "\n",
    "try:\n",
    "    c.execute(\"INSERT INTO {tn} ({idf}, {cn}) VALUES (123456, 'test')\".\\\n",
    "        format(tn=table_name, idf=new_column1, cn=new_column2))\n",
    "except sqlite3.IntegrityError:\n",
    "    print('ERROR: ID already exists in PRIMARY KEY column {}'.format(new_column1))\n",
    "\n",
    "# B) Tries to insert an ID (if it does not exist yet)\n",
    "# with a specific value in a second column\n",
    "c.execute(\"INSERT OR IGNORE INTO {tn} ({idf}, {cn}) VALUES (123456, 'test')\".\\\n",
    "        format(tn=table_name, idf=new_column1, cn=new_column2))\n",
    "\n",
    "# C) Updates the newly inserted or pre-existing entry            \n",
    "c.execute(\"UPDATE {tn} SET {cn}=('Hi World') WHERE {idf}=(123456)\".\\\n",
    "        format(tn=table_name, cn=new_column2, idf=new_column1))\n",
    "\n",
    "conn.commit()\n",
    "conn.close()"
   ]
  },
  {
   "cell_type": "code",
   "execution_count": 11,
   "metadata": {},
   "outputs": [],
   "source": [
    "# Connecting to the database file\n",
    "conn = sqlite3.connect(sqlite_file)\n",
    "c = conn.cursor()\n",
    "\n",
    "# A) Inserts an ID with a specific value in a second column\n"
   ]
  },
  {
   "cell_type": "markdown",
   "metadata": {},
   "source": [
    "# Querying the database - Selecting rows\n",
    "After we learned about how to create and modify SQLite databases, it’s about time for some data retrieval. The code below illustrates how we can retrieve row entries for all or some columns if they match certain criteria."
   ]
  },
  {
   "cell_type": "code",
   "execution_count": 12,
   "metadata": {},
   "outputs": [],
   "source": [
    "sqlite_file = 'rss_news-feed_db.sqlite'    # name of the sqlite database file\n",
    "table_name = 'sports_news_table'  # name of the table to be created\n",
    "\n",
    "new_column1 = 'my_2nd_column'  # name of the new column\n",
    "new_column2 = 'my_3nd_column'  # name of the new column"
   ]
  },
  {
   "cell_type": "code",
   "execution_count": null,
   "metadata": {},
   "outputs": [],
   "source": [
    "# Connecting to the database file\n",
    "conn = sqlite3.connect(sqlite_file)\n",
    "c = conn.cursor()\n",
    "\n"
   ]
  },
  {
   "cell_type": "code",
   "execution_count": null,
   "metadata": {},
   "outputs": [],
   "source": [
    "# 1) Contents of all columns for row that match a certain value in 1 column\n",
    "c.execute('SELECT * FROM {tn} WHERE {cn}=\"Hi World\"'.\\\n",
    "        format(tn=table_name, cn=column_2))\n",
    "all_rows = c.fetchall()\n",
    "print('1):', all_rows)\n",
    "\n",
    "# 2) Value of a particular column for rows that match a certain value in column_1\n",
    "c.execute('SELECT ({coi}) FROM {tn} WHERE {cn}=\"Hi World\"'.\\\n",
    "        format(coi=column_2, tn=table_name, cn=column_2))\n",
    "all_rows = c.fetchall()\n",
    "print('2):', all_rows)\n",
    "\n",
    "# 3) Value of 2 particular columns for rows that match a certain value in 1 column\n",
    "c.execute('SELECT {coi1},{coi2} FROM {tn} WHERE {coi1}=\"Hi World\"'.\\\n",
    "        format(coi1=column_2, coi2=column_3, tn=table_name, cn=column_2))\n",
    "all_rows = c.fetchall()\n",
    "print('3):', all_rows)\n",
    "\n",
    "# 4) Selecting only up to 10 rows that match a certain value in 1 column\n",
    "c.execute('SELECT * FROM {tn} WHERE {cn}=\"Hi World\" LIMIT 10'.\\\n",
    "        format(tn=table_name, cn=column_2))\n",
    "ten_rows = c.fetchall()\n",
    "print('4):', ten_rows)\n",
    "\n",
    "# 5) Check if a certain ID exists and print its column contents\n",
    "c.execute(\"SELECT * FROM {tn} WHERE {idf}={my_id}\".\\\n",
    "        format(tn=table_name, cn=column_2, idf=id_column, my_id=some_id))\n",
    "id_exists = c.fetchone()\n",
    "if id_exists:\n",
    "    print('5): {}'.format(id_exists))\n",
    "else:\n",
    "    print('5): {} does not exist'.format(some_id))\n",
    "\n",
    "# Closing the connection to the database file\n",
    "conn.close()"
   ]
  }
 ],
 "metadata": {
  "kernelspec": {
   "display_name": "Python 3",
   "language": "python",
   "name": "python3"
  },
  "language_info": {
   "codemirror_mode": {
    "name": "ipython",
    "version": 3
   },
   "file_extension": ".py",
   "mimetype": "text/x-python",
   "name": "python",
   "nbconvert_exporter": "python",
   "pygments_lexer": "ipython3",
   "version": "3.6.5"
  }
 },
 "nbformat": 4,
 "nbformat_minor": 2
}
