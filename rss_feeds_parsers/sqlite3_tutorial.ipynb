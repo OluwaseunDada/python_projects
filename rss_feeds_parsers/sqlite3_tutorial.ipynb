{
 "cells": [
  {
   "cell_type": "code",
   "execution_count": 3,
   "metadata": {},
   "outputs": [],
   "source": [
    "import sqlite3"
   ]
  },
  {
   "cell_type": "markdown",
   "metadata": {},
   "source": [
    "# Creating a new SQLite database\n",
    "Let us have a look at some example code to create a new SQLite database file with two tables: One with and one without a PRIMARY KEY column (don’t worry, there is more information about PRIMARY KEYs further down in this section)."
   ]
  },
  {
   "cell_type": "code",
   "execution_count": 2,
   "metadata": {},
   "outputs": [
    {
     "ename": "OperationalError",
     "evalue": "table my_table_1 already exists",
     "output_type": "error",
     "traceback": [
      "\u001b[1;31m---------------------------------------------------------------------------\u001b[0m",
      "\u001b[1;31mOperationalError\u001b[0m                          Traceback (most recent call last)",
      "\u001b[1;32m<ipython-input-2-5c7b89c0f99c>\u001b[0m in \u001b[0;36m<module>\u001b[1;34m()\u001b[0m\n\u001b[0;32m     12\u001b[0m \u001b[1;33m\u001b[0m\u001b[0m\n\u001b[0;32m     13\u001b[0m \u001b[1;31m# Creating a new SQLite table with 1 column\u001b[0m\u001b[1;33m\u001b[0m\u001b[1;33m\u001b[0m\u001b[0m\n\u001b[1;32m---> 14\u001b[1;33m \u001b[0mc\u001b[0m\u001b[1;33m.\u001b[0m\u001b[0mexecute\u001b[0m\u001b[1;33m(\u001b[0m\u001b[1;34m'CREATE TABLE {tn} ({nf} {ft})'\u001b[0m        \u001b[1;33m.\u001b[0m\u001b[0mformat\u001b[0m\u001b[1;33m(\u001b[0m\u001b[0mtn\u001b[0m\u001b[1;33m=\u001b[0m\u001b[0mtable_name1\u001b[0m\u001b[1;33m,\u001b[0m \u001b[0mnf\u001b[0m\u001b[1;33m=\u001b[0m\u001b[0mnew_field\u001b[0m\u001b[1;33m,\u001b[0m \u001b[0mft\u001b[0m\u001b[1;33m=\u001b[0m\u001b[0mfield_type\u001b[0m\u001b[1;33m)\u001b[0m\u001b[1;33m)\u001b[0m\u001b[1;33m\u001b[0m\u001b[0m\n\u001b[0m\u001b[0;32m     15\u001b[0m \u001b[1;33m\u001b[0m\u001b[0m\n\u001b[0;32m     16\u001b[0m \u001b[1;31m# Creating a second table with 1 column and set it as PRIMARY KEY\u001b[0m\u001b[1;33m\u001b[0m\u001b[1;33m\u001b[0m\u001b[0m\n",
      "\u001b[1;31mOperationalError\u001b[0m: table my_table_1 already exists"
     ]
    }
   ],
   "source": [
    "sqlite_file = 'my_first_db.sqlite'    # name of the sqlite database file\n",
    "table_name1 = 'my_table_1'  # name of the table to be created\n",
    "table_name2 = 'my_table_2'  # name of the table to be created\n",
    "new_field = 'my_1st_column' # name of the column\n",
    "field_type = 'INTEGER'  # column data type\n",
    "\n",
    "# Connecting to the database file\n",
    "conn = sqlite3.connect(sqlite_file)\n",
    "c = conn.cursor()\n",
    "\n",
    "# Creating a new SQLite table with 1 column\n",
    "c.execute('CREATE TABLE {tn} ({nf} {ft})'\\\n",
    "        .format(tn=table_name1, nf=new_field, ft=field_type))\n",
    "\n",
    "# Creating a second table with 1 column and set it as PRIMARY KEY\n",
    "# note that PRIMARY KEY column must consist of unique values!\n",
    "c.execute('CREATE TABLE {tn} ({nf} {ft} PRIMARY KEY)'\\\n",
    "        .format(tn=table_name2, nf=new_field, ft=field_type))\n",
    "\n",
    "# Committing changes and closing the connection to the database file\n",
    "conn.commit()\n",
    "conn.close()"
   ]
  },
  {
   "cell_type": "markdown",
   "metadata": {},
   "source": [
    "# Adding new columns\n",
    "If we want to add a new column to an existing SQLite database table, we can either leave the cells for each row empty (NULL value), or we can set a default value for each cell, which is pretty convenient for certain applications.\n",
    "Let’s have a look at some code:"
   ]
  },
  {
   "cell_type": "code",
   "execution_count": 4,
   "metadata": {},
   "outputs": [
    {
     "ename": "OperationalError",
     "evalue": "duplicate column name: my_2nd_column",
     "output_type": "error",
     "traceback": [
      "\u001b[1;31m---------------------------------------------------------------------------\u001b[0m",
      "\u001b[1;31mOperationalError\u001b[0m                          Traceback (most recent call last)",
      "\u001b[1;32m<ipython-input-4-117591605f24>\u001b[0m in \u001b[0;36m<module>\u001b[1;34m()\u001b[0m\n\u001b[0;32m     12\u001b[0m \u001b[1;33m\u001b[0m\u001b[0m\n\u001b[0;32m     13\u001b[0m \u001b[1;31m# A) Adding a new column without a row value\u001b[0m\u001b[1;33m\u001b[0m\u001b[1;33m\u001b[0m\u001b[0m\n\u001b[1;32m---> 14\u001b[1;33m \u001b[0mc\u001b[0m\u001b[1;33m.\u001b[0m\u001b[0mexecute\u001b[0m\u001b[1;33m(\u001b[0m\u001b[1;34m\"ALTER TABLE {tn} ADD COLUMN '{cn}' {ct}\"\u001b[0m        \u001b[1;33m.\u001b[0m\u001b[0mformat\u001b[0m\u001b[1;33m(\u001b[0m\u001b[0mtn\u001b[0m\u001b[1;33m=\u001b[0m\u001b[0mtable_name\u001b[0m\u001b[1;33m,\u001b[0m \u001b[0mcn\u001b[0m\u001b[1;33m=\u001b[0m\u001b[0mnew_column1\u001b[0m\u001b[1;33m,\u001b[0m \u001b[0mct\u001b[0m\u001b[1;33m=\u001b[0m\u001b[0mcolumn_type\u001b[0m\u001b[1;33m)\u001b[0m\u001b[1;33m)\u001b[0m\u001b[1;33m\u001b[0m\u001b[0m\n\u001b[0m\u001b[0;32m     15\u001b[0m \u001b[1;33m\u001b[0m\u001b[0m\n\u001b[0;32m     16\u001b[0m \u001b[1;31m# B) Adding a new column with a default row value\u001b[0m\u001b[1;33m\u001b[0m\u001b[1;33m\u001b[0m\u001b[0m\n",
      "\u001b[1;31mOperationalError\u001b[0m: duplicate column name: my_2nd_column"
     ]
    }
   ],
   "source": [
    "sqlite_file = 'my_first_db.sqlite'    # name of the sqlite database file\n",
    "table_name = 'my_table_2'   # name of the table to be created\n",
    "id_column = 'my_1st_column' # name of the PRIMARY KEY column\n",
    "new_column1 = 'my_2nd_column'  # name of the new column\n",
    "new_column2 = 'my_3nd_column'  # name of the new column\n",
    "column_type = 'TEXT' # E.g., INTEGER, TEXT, NULL, REAL, BLOB\n",
    "default_val = 'Hello World' # a default value for the new column rows\n",
    "\n",
    "# Connecting to the database file\n",
    "conn = sqlite3.connect(sqlite_file)\n",
    "c = conn.cursor()\n",
    "\n",
    "# A) Adding a new column without a row value\n",
    "c.execute(\"ALTER TABLE {tn} ADD COLUMN '{cn}' {ct}\"\\\n",
    "        .format(tn=table_name, cn=new_column1, ct=column_type))\n",
    "\n",
    "# B) Adding a new column with a default row value\n",
    "c.execute(\"ALTER TABLE {tn} ADD COLUMN '{cn}' {ct} DEFAULT '{df}'\"\\\n",
    "        .format(tn=table_name, cn=new_column2, ct=column_type, df=default_val))\n",
    "\n",
    "# Committing changes and closing the connection to the database file\n",
    "conn.commit()\n",
    "conn.close()"
   ]
  },
  {
   "cell_type": "raw",
   "metadata": {},
   "source": [
    "We just added 2 more columns (my_2nd_column and my_3rd_column) to my_table_2 of our SQLite database next to the PRIMARY KEY column my_1st_column.\n",
    "The difference between the two new columns is that we initialized my_3rd_column with a default value (here:’Hello World’), which will be inserted for every existing cell under this column and for every new row that we are going to add to the table if we don’t insert or update it with a different value."
   ]
  },
  {
   "cell_type": "markdown",
   "metadata": {},
   "source": [
    "# Inserting and updating rows\n",
    "Inserting and updating rows into an existing SQLite database table - next to sending queries - is probably the most common database operation. The Structured Query Language has a convenient UPSERT function, which is basically just a merge between UPDATE and INSERT: It inserts new rows into a database table with a value for the PRIMARY KEY column if it does not exist yet, or updates a row for an existing PRIMARY KEY value. Unfortunately, this convenient syntax is not supported by the more compact SQLite database implementation that we are using here. However, there are some workarounds. But let us first have a look at the example code:"
   ]
  },
  {
   "cell_type": "code",
   "execution_count": 5,
   "metadata": {},
   "outputs": [],
   "source": [
    "import sqlite3\n",
    "\n",
    "sqlite_file = 'my_first_db.sqlite'\n",
    "table_name = 'my_table_2'\n",
    "id_column = 'my_1st_column'\n",
    "column_name = 'my_2nd_column'\n",
    "\n",
    "# Connecting to the database file\n",
    "conn = sqlite3.connect(sqlite_file)\n",
    "c = conn.cursor()\n",
    "\n",
    "# A) Inserts an ID with a specific value in a second column\n",
    "try:\n",
    "    c.execute(\"INSERT INTO {tn} ({idf}, {cn}) VALUES (123456, 'test')\".\\\n",
    "        format(tn=table_name, idf=id_column, cn=column_name))\n",
    "except sqlite3.IntegrityError:\n",
    "    print('ERROR: ID already exists in PRIMARY KEY column {}'.format(id_column))\n",
    "\n",
    "# B) Tries to insert an ID (if it does not exist yet)\n",
    "# with a specific value in a second column\n",
    "c.execute(\"INSERT OR IGNORE INTO {tn} ({idf}, {cn}) VALUES (123456, 'test')\".\\\n",
    "        format(tn=table_name, idf=id_column, cn=column_name))\n",
    "\n",
    "# C) Updates the newly inserted or pre-existing entry            \n",
    "c.execute(\"UPDATE {tn} SET {cn}=('Hi World') WHERE {idf}=(123456)\".\\\n",
    "        format(tn=table_name, cn=column_name, idf=id_column))\n",
    "\n",
    "conn.commit()\n",
    "conn.close()"
   ]
  },
  {
   "cell_type": "raw",
   "metadata": {},
   "source": [
    "Both A) INSERT and B) INSERT OR IGNORE have in common that they append new rows to the database if a given PRIMARY KEY does not exist in the database table, yet. However, if we’d try to append a PRIMARY KEY value that is not unique, a simple INSERT would raise an sqlite3.IntegrityError exception, which can be either captured via a try-except statement (case A) or circumvented by the SQLite call INSERT OR IGNORE (case B). This can be pretty useful if we want to construct an UPSERT equivalent in SQLite. E.g., if we want to add a dataset to an existing database table that contains a mix between existing and new IDs for our PRIMARY KEY column."
   ]
  },
  {
   "cell_type": "markdown",
   "metadata": {},
   "source": [
    "# Creating unique indexes\n",
    "Just like hashtable-datastructures, indexes function as direct pointers to our data in a table for a particular column (i.e., the indexed column). For example, the PRIMARY KEY column would have such an index by default. The downside of indexes is that every row value in the column must be unique. However, it is recommended and pretty useful to index certain columns if possible, since it rewards us with a significant performance gain for the data retrieval.\n",
    "The example code below shows how to add such an unique index to an existing column in an SQLite database table. And if we should decide to insert non-unique values into a indexed column later, there is also a convenient way to drop the index, which is also shown in the code below."
   ]
  },
  {
   "cell_type": "code",
   "execution_count": 6,
   "metadata": {},
   "outputs": [],
   "source": [
    "import sqlite3\n",
    "\n",
    "sqlite_file = 'my_first_db.sqlite'    # name of the sqlite database file\n",
    "table_name = 'my_table_2'   # name of the table to be created\n",
    "id_column = 'my_1st_column' # name of the PRIMARY KEY column\n",
    "new_column = 'unique_names'  # name of the new column\n",
    "column_type = 'TEXT' # E.g., INTEGER, TEXT, NULL, REAL, BLOB\n",
    "index_name = 'my_unique_index'  # name for the new unique index\n",
    "\n",
    "# Connecting to the database file\n",
    "conn = sqlite3.connect(sqlite_file)\n",
    "c = conn.cursor()\n",
    "\n",
    "# Adding a new column and update some record\n",
    "c.execute(\"ALTER TABLE {tn} ADD COLUMN '{cn}' {ct}\"\\\n",
    "        .format(tn=table_name, cn=new_column, ct=column_type))\n",
    "c.execute(\"UPDATE {tn} SET {cn}='sebastian_r' WHERE {idf}=123456\".\\\n",
    "        format(tn=table_name, idf=id_column, cn=new_column))\n",
    "\n",
    "# Creating an unique index\n",
    "c.execute('CREATE INDEX {ix} on {tn}({cn})'\\\n",
    "        .format(ix=index_name, tn=table_name, cn=new_column))\n",
    "\n",
    "# Dropping the unique index\n",
    "# E.g., to avoid future conflicts with update/insert functions\n",
    "c.execute('DROP INDEX {ix}'.format(ix=index_name))\n",
    "\n",
    "# Committing changes and closing the connection to the database file\n",
    "conn.commit()\n",
    "conn.close()"
   ]
  },
  {
   "cell_type": "markdown",
   "metadata": {},
   "source": [
    "# Querying the database - Selecting rows\n",
    "After we learned about how to create and modify SQLite databases, it’s about time for some data retrieval. The code below illustrates how we can retrieve row entries for all or some columns if they match certain criteria."
   ]
  },
  {
   "cell_type": "code",
   "execution_count": 8,
   "metadata": {},
   "outputs": [
    {
     "name": "stdout",
     "output_type": "stream",
     "text": [
      "1): [(123456, 'Hi World', 'Hello World', 'sebastian_r')]\n",
      "2): [('Hi World',)]\n",
      "3): []\n",
      "4): [(123456, 'Hi World', 'Hello World', 'sebastian_r')]\n",
      "5): (123456, 'Hi World', 'Hello World', 'sebastian_r')\n"
     ]
    }
   ],
   "source": [
    "import sqlite3\n",
    "\n",
    "sqlite_file = 'my_first_db.sqlite'    # name of the sqlite database file\n",
    "table_name = 'my_table_2'   # name of the table to be queried\n",
    "id_column = 'my_1st_column'\n",
    "some_id = 123456\n",
    "column_2 = 'my_2nd_column'\n",
    "column_3 = 'my_3rd_column'\n",
    "\n",
    "# Connecting to the database file\n",
    "conn = sqlite3.connect(sqlite_file)\n",
    "c = conn.cursor()\n",
    "\n",
    "# 1) Contents of all columns for row that match a certain value in 1 column\n",
    "c.execute('SELECT * FROM {tn} WHERE {cn}=\"Hi World\"'.\\\n",
    "        format(tn=table_name, cn=column_2))\n",
    "all_rows = c.fetchall()\n",
    "print('1):', all_rows)\n",
    "\n",
    "# 2) Value of a particular column for rows that match a certain value in column_1\n",
    "c.execute('SELECT ({coi}) FROM {tn} WHERE {cn}=\"Hi World\"'.\\\n",
    "        format(coi=column_2, tn=table_name, cn=column_2))\n",
    "all_rows = c.fetchall()\n",
    "print('2):', all_rows)\n",
    "\n",
    "# 3) Value of 2 particular columns for rows that match a certain value in 1 column\n",
    "#c.execute('SELECT {coi1},{coi2} FROM {tn} WHERE {coi1}=\"Hi World\"'.\\\n",
    " #       format(coi1=column_2, coi2=column_3, tn=table_name, cn=column_2))\n",
    "\n",
    "all_rows = c.fetchall()\n",
    "print('3):', all_rows)\n",
    "\n",
    "# 4) Selecting only up to 10 rows that match a certain value in 1 column\n",
    "c.execute('SELECT * FROM {tn} WHERE {cn}=\"Hi World\" LIMIT 10'.\\\n",
    "        format(tn=table_name, cn=column_2))\n",
    "ten_rows = c.fetchall()\n",
    "print('4):', ten_rows)\n",
    "\n",
    "# 5) Check if a certain ID exists and print its column contents\n",
    "c.execute(\"SELECT * FROM {tn} WHERE {idf}={my_id}\".\\\n",
    "        format(tn=table_name, cn=column_2, idf=id_column, my_id=some_id))\n",
    "id_exists = c.fetchone()\n",
    "if id_exists:\n",
    "    print('5): {}'.format(id_exists))\n",
    "else:\n",
    "    print('5): {} does not exist'.format(some_id))\n",
    "\n",
    "# Closing the connection to the database file\n",
    "conn.close()"
   ]
  },
  {
   "cell_type": "markdown",
   "metadata": {},
   "source": [
    "# Security and injection attacks\n",
    "So far, we have been using Python’s string formatting method to insert parameters like table and column names into the c.execute() functions. This is fine if we just want to use the database for ourselves. However, this leaves our database vulnerable to injection attacks. For example, if our database would be part of a web application, it would allow hackers to directly communicate with the database in order to bypass login and password verification and steal data.\n",
    "In order to prevent this, it is recommended to use ? place holders in the SQLite commands instead of the % formatting expression or the .format() method, which we have been using in this tutorial.\n",
    "For example, instead of using"
   ]
  },
  {
   "cell_type": "markdown",
   "metadata": {},
   "source": [
    "# 5) Check if a certain ID exists and print its column contents\n",
    "c.execute(\"SELECT * FROM {tn} WHERE {idf}={my_id}\".\\\n",
    "        format(tn=table_name, cn=column_2, idf=id_column, my_id=some_id))"
   ]
  },
  {
   "cell_type": "code",
   "execution_count": null,
   "metadata": {},
   "outputs": [],
   "source": []
  },
  {
   "cell_type": "code",
   "execution_count": null,
   "metadata": {},
   "outputs": [],
   "source": []
  },
  {
   "cell_type": "raw",
   "metadata": {},
   "source": [
    "in the Querying the database - Selecting rows section above, we would want to use the ? placeholder for the queried column value and include the variable(s) (here: 123456), which we want to insert, as tuple at the end of the c.execute() string."
   ]
  },
  {
   "cell_type": "code",
   "execution_count": null,
   "metadata": {},
   "outputs": [],
   "source": [
    "# 5) Check if a certain ID exists and print its column contents\n",
    "c.execute(\"SELECT * FROM {tn} WHERE {idf}=?\".\\\n",
    "        format(tn=table_name, cn=column_2, idf=id_column), (123456,))"
   ]
  },
  {
   "cell_type": "raw",
   "metadata": {},
   "source": [
    "However, the problem with this approach is that it would only work for values, not for column or table names. So what are we supposed to do with the rest of the string if we want to protect ourselves from injection attacks? The easy solution would be to refrain from using variables in SQLite queries whenever possible, and if it cannot be avoided, we would want to use a function that strips all non-alphanumerical characters from the stored content of the variable, e.g.,"
   ]
  },
  {
   "cell_type": "code",
   "execution_count": null,
   "metadata": {},
   "outputs": [],
   "source": [
    "def clean_name(some_var):\n",
    "    return ''.join(char for char in some_var if char.isalnum())"
   ]
  },
  {
   "cell_type": "code",
   "execution_count": null,
   "metadata": {},
   "outputs": [],
   "source": [
    "Date and time operations\n",
    "SQLite inherited the convenient date and time operations from SQL, which are one of my favorite features of the Structured Query Language: It does not only allow us to insert dates and times in various different formats, but we can also perform simple + and - arithmetic, for example to look up entries that have been added xxx days ago."
   ]
  },
  {
   "cell_type": "code",
   "execution_count": 10,
   "metadata": {},
   "outputs": [
    {
     "name": "stdout",
     "output_type": "stream",
     "text": [
      "4) all entries between ~2013 - 2015: []\n",
      "5) entries older than 1 day: []\n"
     ]
    }
   ],
   "source": [
    "import sqlite3\n",
    "\n",
    "sqlite_file = 'my_first_db.sqlite'    # name of the sqlite database file\n",
    "table_name = 'my_table_3'   # name of the table to be created\n",
    "id_field = 'id' # name of the ID column\n",
    "date_col = 'date' # name of the date column\n",
    "time_col = 'time'# name of the time column\n",
    "date_time_col = 'date_time' # name of the date & time column\n",
    "field_type = 'TEXT'  # column data type\n",
    "\n",
    "# Connecting to the database file\n",
    "conn = sqlite3.connect(sqlite_file)\n",
    "c = conn.cursor()\n",
    "\n",
    "# Creating a new SQLite table with 1 column\n",
    "c.execute('CREATE TABLE {tn} ({fn} {ft} PRIMARY KEY)'\\\n",
    "        .format(tn=table_name, fn=id_field, ft=field_type))\n",
    "\n",
    "# A) Adding a new column to save date insert a row with the current date\n",
    "# in the following format: YYYY-MM-DD\n",
    "# e.g., 2014-03-06\n",
    "c.execute(\"ALTER TABLE {tn} ADD COLUMN '{cn}'\"\\\n",
    "         .format(tn=table_name, cn=date_col))\n",
    "# insert a new row with the current date and time, e.g., 2014-03-06\n",
    "c.execute(\"INSERT INTO {tn} ({idf}, {cn}) VALUES('some_id1', DATE('now'))\"\\\n",
    "         .format(tn=table_name, idf=id_field, cn=date_col))\n",
    "\n",
    "# B) Adding a new column to save date and time and update with the current time\n",
    "# in the following format: HH:MM:SS\n",
    "# e.g., 16:26:37\n",
    "c.execute(\"ALTER TABLE {tn} ADD COLUMN '{cn}'\"\\\n",
    "         .format(tn=table_name, cn=time_col))\n",
    "# update row for the new current date and time column, e.g., 2014-03-06 16:26:37\n",
    "c.execute(\"UPDATE {tn} SET {cn}=TIME('now') WHERE {idf}='some_id1'\"\\\n",
    "         .format(tn=table_name, idf=id_field, cn=time_col))\n",
    "\n",
    "# C) Adding a new column to save date and time and update with current date-time\n",
    "# in the following format: YYYY-MM-DD HH:MM:SS\n",
    "# e.g., 2014-03-06 16:26:37\n",
    "c.execute(\"ALTER TABLE {tn} ADD COLUMN '{cn}'\"\\\n",
    "         .format(tn=table_name, cn=date_time_col))\n",
    "# update row for the new current date and time column, e.g., 2014-03-06 16:26:37\n",
    "c.execute(\"UPDATE {tn} SET {cn}=(CURRENT_TIMESTAMP) WHERE {idf}='some_id1'\"\\\n",
    "         .format(tn=table_name, idf=id_field, cn=date_time_col))\n",
    "\n",
    "# The database should now look like this:\n",
    "# id         date           time        date_time\n",
    "# \"some_id1\" \"2014-03-06\"   \"16:42:30\"  \"2014-03-06 16:42:30\"\n",
    "\n",
    "# 4) Retrieve all IDs of entries between 2 date_times\n",
    "c.execute(\"SELECT {idf} FROM {tn} WHERE {cn} BETWEEN '2013-03-06 10:10:10' AND '2015-03-06 10:10:10'\".\\\n",
    "    format(idf=id_field, tn=table_name, cn=date_time_col))\n",
    "all_date_times = c.fetchall()\n",
    "print('4) all entries between ~2013 - 2015:', all_date_times)\n",
    "\n",
    "# 5) Retrieve all IDs of entries between that are older than 1 day and 12 hrs\n",
    "c.execute(\"SELECT {idf} FROM {tn} WHERE DATE('now') - {dc} >= 1 AND DATE('now') - {tc} >= 12\".\\\n",
    "    format(idf=id_field, tn=table_name, dc=date_col, tc=time_col))\n",
    "all_1day12hrs_entries = c.fetchall()\n",
    "print('5) entries older than 1 day:', all_1day12hrs_entries)\n",
    "\n",
    "# Committing changes and closing the connection to the database file\n",
    "conn.commit()\n",
    "conn.close()"
   ]
  },
  {
   "cell_type": "raw",
   "metadata": {},
   "source": [
    "Some of the really convenient functions that return the current time and date are:"
   ]
  },
  {
   "cell_type": "code",
   "execution_count": null,
   "metadata": {},
   "outputs": [],
   "source": [
    "DATE('now') # returns current date, e.g., 2014-03-06\n",
    "TIME('now') # returns current time, e.g., 10:10:10\n",
    "CURRENT_TIMESTAMP # returns current date and time, e.g., 2014-03-06 16:42:30\n",
    "#  (or alternatively: DATETIME('now'))\n",
    "\n",
    "The screenshot below shows the print outputs of the code that we used to query for entries that lie between a specified date interval using\n",
    "\n",
    "BETWEEN '2013-03-06 10:10:10' AND '2015-03-06 10:10:10'\n",
    "WHERE DATE('now') - some_date\n",
    "Note that we don’t have to provide the complete time stamps here, the same syntax applies to simple dates or simple times only, too.\\"
   ]
  },
  {
   "cell_type": "code",
   "execution_count": null,
   "metadata": {},
   "outputs": [],
   "source": [
    "If’d we are interested to calculate the hours between two DATETIME() timestamps, we can could use the handy STRFTIME() function like this\\"
   ]
  },
  {
   "cell_type": "code",
   "execution_count": null,
   "metadata": {},
   "outputs": [],
   "source": [
    "SELECT (STRFTIME('%s','2014-03-14 14:51:00') - STRFTIME('%s','2014-03-16 14:51:00'))\n",
    " / -3600\n",
    "    \n",
    "    which would calculate the difference in hours between two dates in this particular example above (here: 48) in this case.\n",
    "And to calculate the difference in hours between the current DATETIME and a given DATETIME string, we could use the following SQLite syntax:\\\n",
    "    \n",
    "    SELECT (STRFTIME('%s',DATETIME('now')) - STRFTIME('%s','2014-03-15 14:51:00')) / 3600"
   ]
  },
  {
   "cell_type": "markdown",
   "metadata": {},
   "source": [
    "# Retrieving column names"
   ]
  },
  {
   "cell_type": "code",
   "execution_count": null,
   "metadata": {},
   "outputs": [],
   "source": [
    "In the previous two sections we have seen how we query SQLite databases for data contents. Now let us have a look at how we retrieve its metadata (here: column names):"
   ]
  },
  {
   "cell_type": "code",
   "execution_count": null,
   "metadata": {},
   "outputs": [],
   "source": [
    "import sqlite3\n",
    "\n",
    "sqlite_file = 'my_first_db.sqlite'\n",
    "table_name = 'my_table_3'\n",
    "\n",
    "# Connecting to the database file\n",
    "conn = sqlite3.connect(sqlite_file)\n",
    "c = conn.cursor()\n",
    "\n",
    "# Retrieve column information\n",
    "# Every column will be represented by a tuple with the following attributes:\n",
    "# (id, name, type, notnull, default_value, primary_key)\n",
    "c.execute('PRAGMA TABLE_INFO({})'.format(table_name))\n",
    "\n",
    "# collect names in a list\n",
    "names = [tup[1] for tup in c.fetchall()]\n",
    "print(names)\n",
    "# e.g., ['id', 'date', 'time', 'date_time']\n",
    "\n",
    "# Closing the connection to the database file\n",
    "conn.close()"
   ]
  },
  {
   "cell_type": "code",
   "execution_count": null,
   "metadata": {},
   "outputs": [],
   "source": [
    "Since we haven’t created a PRIMARY KEY column for my_table_3, SQLite automatically provides an indexed rowid column with unique ascending integer values, which will be ignored in our case. Using the PRAGMA TABLE_INFO() function on our table, we return a list of tuples, where each tuple contains the following information about every column in the table: (id, name, type, notnull, default_value, primary_key).\\ So, in order to get the names of every column in our table, we only have to grab the 2nd value in each tuple of the returned list, which can be done by\n",
    "\n",
    "names = [tup[1] for tup in c.fetchall()]\n",
    "\n",
    "after the PRAGMA TABLE_INFO() call. If we would print the contents of the variable names now, the output would look like this:"
   ]
  },
  {
   "cell_type": "code",
   "execution_count": null,
   "metadata": {},
   "outputs": [],
   "source": [
    "Printing a database summary\n",
    "I hope we covered most of the basics about SQLite database operations in the previous sections, and by now we should be well equipped to get some serious work done using SQLite in Python.\n",
    "Let me conclude this tutorial with an obligatory “last but not least” and a convenient script to print a nice overview of SQLite database tables:"
   ]
  },
  {
   "cell_type": "code",
   "execution_count": null,
   "metadata": {},
   "outputs": [],
   "source": [
    "import sqlite3\n",
    "\n",
    "\n",
    "def connect(sqlite_file):\n",
    "    \"\"\" Make connection to an SQLite database file \"\"\"\n",
    "    conn = sqlite3.connect(sqlite_file)\n",
    "    c = conn.cursor()\n",
    "    return conn, c\n",
    "\n",
    "\n",
    "def close(conn):\n",
    "    \"\"\" Commit changes and close connection to the database \"\"\"\n",
    "    # conn.commit()\n",
    "    conn.close()\n",
    "\n",
    "\n",
    "def total_rows(cursor, table_name, print_out=False):\n",
    "    \"\"\" Returns the total number of rows in the database \"\"\"\n",
    "    cursor.execute('SELECT COUNT(*) FROM {}'.format(table_name))\n",
    "    count = cursor.fetchall()\n",
    "    if print_out:\n",
    "        print('\\nTotal rows: {}'.format(count[0][0]))\n",
    "    return count[0][0]\n",
    "\n",
    "\n",
    "def table_col_info(cursor, table_name, print_out=False):\n",
    "    \"\"\" Returns a list of tuples with column informations:\n",
    "    (id, name, type, notnull, default_value, primary_key)\n",
    "    \"\"\"\n",
    "    cursor.execute('PRAGMA TABLE_INFO({})'.format(table_name))\n",
    "    info = cursor.fetchall()\n",
    "\n",
    "    if print_out:\n",
    "        print(\"\\nColumn Info:\\nID, Name, Type, NotNull, DefaultVal, PrimaryKey\")\n",
    "        for col in info:\n",
    "            print(col)\n",
    "    return info\n",
    "\n",
    "\n",
    "def values_in_col(cursor, table_name, print_out=True):\n",
    "    \"\"\" Returns a dictionary with columns as keys\n",
    "    and the number of not-null entries as associated values.\n",
    "    \"\"\"\n",
    "    cursor.execute('PRAGMA TABLE_INFO({})'.format(table_name))\n",
    "    info = cursor.fetchall()\n",
    "    col_dict = dict()\n",
    "    for col in info:\n",
    "        col_dict[col[1]] = 0\n",
    "    for col in col_dict:\n",
    "        c.execute('SELECT ({0}) FROM {1} '\n",
    "                  'WHERE {0} IS NOT NULL'.format(col, table_name))\n",
    "        # In my case this approach resulted in a\n",
    "        # better performance than using COUNT\n",
    "        number_rows = len(c.fetchall())\n",
    "        col_dict[col] = number_rows\n",
    "    if print_out:\n",
    "        print(\"\\nNumber of entries per column:\")\n",
    "        for i in col_dict.items():\n",
    "            print('{}: {}'.format(i[0], i[1]))\n",
    "    return col_dict\n",
    "\n",
    "\n",
    "if __name__ == '__main__':\n",
    "\n",
    "    sqlite_file = 'my_first_db.sqlite'\n",
    "    table_name = 'my_table_3'\n",
    "\n",
    "    conn, c = connect(sqlite_file)\n",
    "    total_rows(c, table_name, print_out=True)\n",
    "    table_col_info(c, table_name, print_out=True)\n",
    "    # next line might be slow on large databases\n",
    "    values_in_col(c, table_name, print_out=True)\n",
    "\n",
    "    close(conn)"
   ]
  },
  {
   "cell_type": "code",
   "execution_count": null,
   "metadata": {},
   "outputs": [],
   "source": [
    "Conclusion\n",
    "I really hope this tutorial was helpful to you to get started with SQLite database operations via Python. I have been using the sqlite3 module a lot recently, and it has found its way into most of my programs for larger data analyses.\n",
    "Currently, I am working on a novel drug screening software that requires me to store 3D structures and other functional data for ~13 million chemical compounds, and SQLite has been an invaluable part of my program to quickly store, query, analyze, and share my data.\n",
    "Another smaller project that uses sqlite3 in Python would be smilite, a module to retrieve and compare SMILE strings of chemical compounds from the free ZINC online database. If you are interested, you can check it out at: https://github.com/rasbt/smilite.\n",
    "\n",
    "If you have any suggestions or questions, please don’t hesitate to write me an email or leave a comment in the comment section below! I am looking forward to your opinions and ideas, and I hope I can improve and extend this tutorial in future."
   ]
  }
 ],
 "metadata": {
  "kernelspec": {
   "display_name": "Python 3",
   "language": "python",
   "name": "python3"
  },
  "language_info": {
   "codemirror_mode": {
    "name": "ipython",
    "version": 3
   },
   "file_extension": ".py",
   "mimetype": "text/x-python",
   "name": "python",
   "nbconvert_exporter": "python",
   "pygments_lexer": "ipython3",
   "version": "3.6.5"
  }
 },
 "nbformat": 4,
 "nbformat_minor": 2
}
