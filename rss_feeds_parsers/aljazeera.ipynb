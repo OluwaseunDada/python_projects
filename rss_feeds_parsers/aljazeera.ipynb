{
 "cells": [
  {
   "cell_type": "code",
   "execution_count": 1,
   "metadata": {},
   "outputs": [],
   "source": [
    "# https://www.youtube.com/watch?v=pKz1faPVNMA&list=PL5eJgcQ87sgfUrc6an-0Swam0kQXVYnuw&index=16\n",
    "from bs4 import BeautifulSoup"
   ]
  },
  {
   "cell_type": "code",
   "execution_count": 2,
   "metadata": {},
   "outputs": [],
   "source": [
    "import urllib.request"
   ]
  },
  {
   "cell_type": "code",
   "execution_count": 3,
   "metadata": {},
   "outputs": [],
   "source": [
    "nber_rss = 'https://www.nber.org/rss/new.xml'\n",
    "bbc_rss = 'http://feeds.bbci.co.uk/news/world/rss.xml'\n",
    "aljazeera = 'https://www.aljazeera.com/xml/rss/all.xml'\n",
    "pnas_rss = 'https://www.washingtontimes.com/rss/headlines/sports/football/'\n",
    "google_news = 'https://news.google.com/rss/topics/CAAqJggKIiBDQkFTRWdvSUwyMHZNRGx1YlY4U0FtVnVHZ0pWVXlnQVAB?hl=en-US&gl=US&ceid=US:en'"
   ]
  },
  {
   "cell_type": "code",
   "execution_count": 4,
   "metadata": {},
   "outputs": [],
   "source": [
    "req = urllib.request.urlopen(aljazeera)"
   ]
  },
  {
   "cell_type": "code",
   "execution_count": 5,
   "metadata": {},
   "outputs": [],
   "source": [
    "req_xml = BeautifulSoup(req, 'xml')"
   ]
  },
  {
   "cell_type": "code",
   "execution_count": 6,
   "metadata": {},
   "outputs": [
    {
     "data": {
      "text/plain": [
       "<?xml version=\"1.0\" encoding=\"utf-8\"?>\n",
       "<rss version=\"2.0\"><channel><title>Al Jazeera English</title><description>Al Jazeera Media Network</description><link>https://www.aljazeera.com/default.html</link><category domain=\"www.aljazeera.com\">News Media</category><copyright>Â© 2018 Aljazeera Network</copyright><docs>https://www.aljazeera.com/xml/rss/all.xml</docs><managingEditor>feedback@aljazeera.net (Editor)</managingEditor><webMaster>web-support@aljazeera.net (Master)</webMaster><generator>Generator</generator><image><url>https://www.aljazeera.com/assets/images/AJLOGOGOOGLE.png</url><title>Al Jazeera English</title><link>https://www.aljazeera.com/default.html</link><description>Al Jazeera English (AJE)</description></image><item><title>Is Iran to blame for suspected attacks on Gulf tankers?</title><description>Analysts examine US claim that Iran was behind the reported attacks on commercial ships in the Strait of Hormuz. </description><link>https://www.aljazeera.com/news/middleeast/2019/06/iran-blame-suspected-attacks-gulf-tankers-190615165831404.html</link><guid isPermaLink=\"false\">190615165831404</guid><pubDate>Sat, 15 Jun 2019 22:00:37 GMT</pubDate></item><item><title>Cricket World Cup: India, Pakistan rivalry set to be renewed </title><description>Two sides take on each other in the World Cup, just months after calls for it to be cancelled following Pulwama attack.</description><link>https://www.aljazeera.com/news/2019/06/cricket-world-cup-india-pakistan-rivalry-set-renewed-190615175901048.html</link><guid isPermaLink=\"false\">190615175901048</guid><pubDate>Sat, 15 Jun 2019 21:15:14 GMT</pubDate></item><item><title>Is South Sudan on the brink of famine?</title><description>The UN warns millions in South Sudan face a critical lack of food, despite a peace deal following its civil war.\n",
       "</description><link>https://www.aljazeera.com/programmes/insidestory/2019/06/south-sudan-brink-famine-190615203407217.html</link><guid isPermaLink=\"false\">190615203407217</guid><pubDate>Sat, 15 Jun 2019 21:01:44 GMT</pubDate></item><item><title>Israel plans to entrench annexation of East Jerusalem: Report</title><description>Concerned that Jerusalem will soon have a non-Jewish majority, Israel may excise Palestinian areas of East Jerusalem.</description><link>https://www.aljazeera.com/news/middleeast/2019/06/israel-plans-entrench-annexation-east-jerusalem-report-190611194521022.html</link><guid isPermaLink=\"false\">190611194521022</guid><pubDate>Sat, 15 Jun 2019 20:50:00 GMT</pubDate></item><item><title>Saudi Arabia calls for 'decisive' action over tanker attacks</title><description>Saudi Arabia and the United Arab Emirates urge swift international response to secure energy supplies.</description><link>https://www.aljazeera.com/news/2019/06/iran-renews-ultimatum-nuclear-deal-oil-tanker-tensions-190615090730002.html</link><guid isPermaLink=\"false\">190615090730002</guid><pubDate>Sat, 15 Jun 2019 20:36:05 GMT</pubDate></item><item><title>Several civilians, dozens of fighters killed in Syria's Idlib</title><description>The Syrian government, backed by Russia, began bombarding the last rebel-held territory of Idlib in April.</description><link>https://www.aljazeera.com/news/2019/06/civilians-dozens-fighters-killed-syria-idlib-190615185507790.html</link><guid isPermaLink=\"false\">190615185507790</guid><pubDate>Sat, 15 Jun 2019 19:47:50 GMT</pubDate></item><item><title>Somalia: Several killed in al-Shabab attacks in Mogadishu</title><description>Dozens of people were injured in the car bomb detonated near the parliament headquarters in Mogadishu.</description><link>https://www.aljazeera.com/news/2019/06/somalia-killed-al-shabab-attacks-mogadishu-190615165754730.html</link><guid isPermaLink=\"false\">190615165754730</guid><pubDate>Sat, 15 Jun 2019 19:39:53 GMT</pubDate></item><item><title>Palestinians call for international day of action against Puma</title><description>Over 200 Palestinian football and sports clubs issue call to boycott Puma for sponsoring Israel Football Association.</description><link>https://www.aljazeera.com/news/2019/06/palestinians-call-international-day-action-puma-190615150714733.html</link><guid isPermaLink=\"false\">190615150714733</guid><pubDate>Sat, 15 Jun 2019 18:21:13 GMT</pubDate></item><item><title>Guatemalaâ€™s elections: Five things to know</title><description>Presidential candidatesâ€™ proposals to address migration range from farmer support to US military bases</description><link>https://www.aljazeera.com/news/2019/06/guatemalas-elections-5-190615150744593.html</link><guid isPermaLink=\"false\">190615150744593</guid><pubDate>Sat, 15 Jun 2019 17:54:03 GMT</pubDate></item><item><title>First Palestinian museum in Washington, DC, opens</title><description>Museum of the Palestinian People will exhibit artwork, cultural documentation from Palestinian contributors worldwide. </description><link>https://www.aljazeera.com/news/2019/06/palestinian-museum-washington-dc-opens-190615140559950.html</link><guid isPermaLink=\"false\">190615140559950</guid><pubDate>Sat, 15 Jun 2019 17:47:34 GMT</pubDate></item><item><title>Corsica comes within 0.2C of heat record</title><description>Saharan wind makes for a surprisingly hot and dusty day on the small French island of Corsica.</description><link>https://www.aljazeera.com/news/2019/06/corsica-02c-time-heat-record-190615145951696.html</link><guid isPermaLink=\"false\">190615145951696</guid><pubDate>Sat, 15 Jun 2019 17:31:23 GMT</pubDate></item><item><title>Sudan's ex-President Omar al-Bashir 'to face trial soon' </title><description>Chief prosecutor says toppled leader could appear in court as early as next week to face corruption charges. </description><link>https://www.aljazeera.com/news/africa/2019/06/sudan-president-omar-al-bashir-court-190615142442170.html</link><guid isPermaLink=\"false\">190615142442170</guid><pubDate>Sat, 15 Jun 2019 17:03:18 GMT</pubDate></item><item><title>Iran renews nuclear deal ultimatum at Tajikistan summit</title><description>Iranâ€™s president uses conference in Tajikistan of leaders and diplomats from more than 30 Asian countries to reinforce May ultimatum.</description><link>https://www.aljazeera.com/news/2019/06/iran-renews-nuclear-deal-ultimatum-tajikistan-summit-190615162319657.html</link><guid isPermaLink=\"false\">190615162319657</guid><pubDate>Sat, 15 Jun 2019 16:23:19 GMT</pubDate></item><item><title>Nazanin Zaghari-Ratcliffe begins new hunger strike in Iran jail</title><description>British-Iranian mother was arrested for allegedly plotting against the Iranian government, charges she denies.</description><link>https://www.aljazeera.com/news/2019/06/nazanin-zaghari-ratcliffe-begins-hunger-strike-iran-jail-190615133339149.html</link><guid isPermaLink=\"false\">190615133339149</guid><pubDate>Sat, 15 Jun 2019 15:39:06 GMT</pubDate></item><item><title>Hong Kong leader delays extradition bill, protesters want more </title><description>Carrie Lam suspends controversial bill, but activists vow more protests saying proposed law must be shelved permanently.</description><link>https://www.aljazeera.com/news/2019/06/hong-kong-suspends-controversial-extradition-bill-backlash-190615072313040.html</link><guid isPermaLink=\"false\">190615072313040</guid><pubDate>Sat, 15 Jun 2019 15:20:37 GMT</pubDate></item><item><title>Mexico real estate price hikes leave thousands displaced</title><description>Mexicoâ€™s capital is one of the most expensive cities in Latin America, at least when it comes to the cost of owning a house.</description><link>https://www.aljazeera.com/news/2019/06/mexico-real-estate-price-hikes-leave-thousands-displaced-190615151318352.html</link><guid isPermaLink=\"false\">190615151318352</guid><pubDate>Sat, 15 Jun 2019 15:13:18 GMT</pubDate></item><item><title>Sudanâ€™s Omar al-Bashir to be referred to trial</title><description>Sudan's chief prosecutor has given the former president one week to appeal the charges.</description><link>https://www.aljazeera.com/news/2019/06/sudans-omar-al-bashir-referred-trial-190615150229448.html</link><guid isPermaLink=\"false\">190615150229448</guid><pubDate>Sat, 15 Jun 2019 15:02:29 GMT</pubDate></item><item><title>Hong Kong protests shape history</title><description>Certain liberties - like freedom of speech and an independent judiciary â€“ were supposed to stay until 2047.</description><link>https://www.aljazeera.com/news/2019/06/hong-kong-protests-shaping-history-190615145658959.html</link><guid isPermaLink=\"false\">190615145658959</guid><pubDate>Sat, 15 Jun 2019 14:56:58 GMT</pubDate></item><item><title>Years of conflict in Iraq hit health services in Basra</title><description>Experts say pollution from surrounding oilfields is one of the reasons why Basra has the highest rate of cancer in Iraq.</description><link>https://www.aljazeera.com/news/2019/06/years-conflict-iraq-hit-health-services-basra-190615132031813.html</link><guid isPermaLink=\"false\">190615132031813</guid><pubDate>Sat, 15 Jun 2019 13:20:31 GMT</pubDate></item><item><title>Nigeria land struggle: Farmers fight over resources</title><description>For centuries, the Fulani people have lived interdependent lives with the farmers but the past 30 years have tested that harmony.</description><link>https://www.aljazeera.com/news/2019/06/nigeria-land-struggle-farmers-fight-resources-190615125325385.html</link><guid isPermaLink=\"false\">190615125325385</guid><pubDate>Sat, 15 Jun 2019 12:53:25 GMT</pubDate></item><item><title>Kenya police officers killed in blast near Somalia border</title><description>At least 10 officers killed after vehicle struck an improvised explosive device in in Wajir County near Somali border.</description><link>https://www.aljazeera.com/news/2019/06/kenya-police-officers-killed-blast-somalia-border-190615122049040.html</link><guid isPermaLink=\"false\">190615122049040</guid><pubDate>Sat, 15 Jun 2019 12:29:30 GMT</pubDate></item><item><title>Modi's economic paradox: Strong growth, but where are the jobs?</title><description>Modi won a landslide election, but with unemployment in India at a 45-year high, what went wrong in his first term?</description><link>https://www.aljazeera.com/programmes/countingthecost/2019/06/modi-economic-paradox-strong-growth-jobs-190615075841205.html</link><guid isPermaLink=\"false\">190615075841205</guid><pubDate>Sat, 15 Jun 2019 12:22:30 GMT</pubDate></item><item><title>India journalists decry 'escalating attacks' on press freedom</title><description>Recent arrests appear to follow a pattern of attacks on press freedom since Modi's ascension to power, journalists say.</description><link>https://www.aljazeera.com/news/2019/06/india-journalists-decry-escalating-attacks-press-freedom-190615102209693.html</link><guid isPermaLink=\"false\">190615102209693</guid><pubDate>Sat, 15 Jun 2019 12:11:40 GMT</pubDate></item><item><title>Hong Kong protests: All the latest updates</title><description> Carrie Lam delayed a proposed law to allow people to be extradited to mainland China.</description><link>https://www.aljazeera.com/news/2019/06/hong-kong-protests-latest-updates-190612074625753.html</link><guid isPermaLink=\"false\">190612074625753</guid><pubDate>Sat, 15 Jun 2019 11:54:31 GMT</pubDate></item><item><title>US-Iran debates: Fake writers and state-funded trolling</title><description>Tax-funded smears &amp; a fake activist: worrying twists in the US-Iran propaganda war. Plus, Algeria's YouTube influencers.</description><link>https://www.aljazeera.com/programmes/listeningpost/2019/06/iran-debates-fake-writers-state-funded-trolling-190615074719872.html</link><guid isPermaLink=\"false\">190615074719872</guid><pubDate>Sat, 15 Jun 2019 11:30:25 GMT</pubDate></item></channel></rss>"
      ]
     },
     "execution_count": 6,
     "metadata": {},
     "output_type": "execute_result"
    }
   ],
   "source": [
    "req_xml"
   ]
  },
  {
   "cell_type": "code",
   "execution_count": 7,
   "metadata": {},
   "outputs": [
    {
     "data": {
      "text/plain": [
       "[<item><title>Is Iran to blame for suspected attacks on Gulf tankers?</title><description>Analysts examine US claim that Iran was behind the reported attacks on commercial ships in the Strait of Hormuz. </description><link>https://www.aljazeera.com/news/middleeast/2019/06/iran-blame-suspected-attacks-gulf-tankers-190615165831404.html</link><guid isPermaLink=\"false\">190615165831404</guid><pubDate>Sat, 15 Jun 2019 22:00:37 GMT</pubDate></item>,\n",
       " <item><title>Cricket World Cup: India, Pakistan rivalry set to be renewed </title><description>Two sides take on each other in the World Cup, just months after calls for it to be cancelled following Pulwama attack.</description><link>https://www.aljazeera.com/news/2019/06/cricket-world-cup-india-pakistan-rivalry-set-renewed-190615175901048.html</link><guid isPermaLink=\"false\">190615175901048</guid><pubDate>Sat, 15 Jun 2019 21:15:14 GMT</pubDate></item>,\n",
       " <item><title>Is South Sudan on the brink of famine?</title><description>The UN warns millions in South Sudan face a critical lack of food, despite a peace deal following its civil war.\n",
       " </description><link>https://www.aljazeera.com/programmes/insidestory/2019/06/south-sudan-brink-famine-190615203407217.html</link><guid isPermaLink=\"false\">190615203407217</guid><pubDate>Sat, 15 Jun 2019 21:01:44 GMT</pubDate></item>,\n",
       " <item><title>Israel plans to entrench annexation of East Jerusalem: Report</title><description>Concerned that Jerusalem will soon have a non-Jewish majority, Israel may excise Palestinian areas of East Jerusalem.</description><link>https://www.aljazeera.com/news/middleeast/2019/06/israel-plans-entrench-annexation-east-jerusalem-report-190611194521022.html</link><guid isPermaLink=\"false\">190611194521022</guid><pubDate>Sat, 15 Jun 2019 20:50:00 GMT</pubDate></item>,\n",
       " <item><title>Saudi Arabia calls for 'decisive' action over tanker attacks</title><description>Saudi Arabia and the United Arab Emirates urge swift international response to secure energy supplies.</description><link>https://www.aljazeera.com/news/2019/06/iran-renews-ultimatum-nuclear-deal-oil-tanker-tensions-190615090730002.html</link><guid isPermaLink=\"false\">190615090730002</guid><pubDate>Sat, 15 Jun 2019 20:36:05 GMT</pubDate></item>,\n",
       " <item><title>Several civilians, dozens of fighters killed in Syria's Idlib</title><description>The Syrian government, backed by Russia, began bombarding the last rebel-held territory of Idlib in April.</description><link>https://www.aljazeera.com/news/2019/06/civilians-dozens-fighters-killed-syria-idlib-190615185507790.html</link><guid isPermaLink=\"false\">190615185507790</guid><pubDate>Sat, 15 Jun 2019 19:47:50 GMT</pubDate></item>,\n",
       " <item><title>Somalia: Several killed in al-Shabab attacks in Mogadishu</title><description>Dozens of people were injured in the car bomb detonated near the parliament headquarters in Mogadishu.</description><link>https://www.aljazeera.com/news/2019/06/somalia-killed-al-shabab-attacks-mogadishu-190615165754730.html</link><guid isPermaLink=\"false\">190615165754730</guid><pubDate>Sat, 15 Jun 2019 19:39:53 GMT</pubDate></item>,\n",
       " <item><title>Palestinians call for international day of action against Puma</title><description>Over 200 Palestinian football and sports clubs issue call to boycott Puma for sponsoring Israel Football Association.</description><link>https://www.aljazeera.com/news/2019/06/palestinians-call-international-day-action-puma-190615150714733.html</link><guid isPermaLink=\"false\">190615150714733</guid><pubDate>Sat, 15 Jun 2019 18:21:13 GMT</pubDate></item>,\n",
       " <item><title>Guatemalaâ€™s elections: Five things to know</title><description>Presidential candidatesâ€™ proposals to address migration range from farmer support to US military bases</description><link>https://www.aljazeera.com/news/2019/06/guatemalas-elections-5-190615150744593.html</link><guid isPermaLink=\"false\">190615150744593</guid><pubDate>Sat, 15 Jun 2019 17:54:03 GMT</pubDate></item>,\n",
       " <item><title>First Palestinian museum in Washington, DC, opens</title><description>Museum of the Palestinian People will exhibit artwork, cultural documentation from Palestinian contributors worldwide. </description><link>https://www.aljazeera.com/news/2019/06/palestinian-museum-washington-dc-opens-190615140559950.html</link><guid isPermaLink=\"false\">190615140559950</guid><pubDate>Sat, 15 Jun 2019 17:47:34 GMT</pubDate></item>,\n",
       " <item><title>Corsica comes within 0.2C of heat record</title><description>Saharan wind makes for a surprisingly hot and dusty day on the small French island of Corsica.</description><link>https://www.aljazeera.com/news/2019/06/corsica-02c-time-heat-record-190615145951696.html</link><guid isPermaLink=\"false\">190615145951696</guid><pubDate>Sat, 15 Jun 2019 17:31:23 GMT</pubDate></item>,\n",
       " <item><title>Sudan's ex-President Omar al-Bashir 'to face trial soon' </title><description>Chief prosecutor says toppled leader could appear in court as early as next week to face corruption charges. </description><link>https://www.aljazeera.com/news/africa/2019/06/sudan-president-omar-al-bashir-court-190615142442170.html</link><guid isPermaLink=\"false\">190615142442170</guid><pubDate>Sat, 15 Jun 2019 17:03:18 GMT</pubDate></item>,\n",
       " <item><title>Iran renews nuclear deal ultimatum at Tajikistan summit</title><description>Iranâ€™s president uses conference in Tajikistan of leaders and diplomats from more than 30 Asian countries to reinforce May ultimatum.</description><link>https://www.aljazeera.com/news/2019/06/iran-renews-nuclear-deal-ultimatum-tajikistan-summit-190615162319657.html</link><guid isPermaLink=\"false\">190615162319657</guid><pubDate>Sat, 15 Jun 2019 16:23:19 GMT</pubDate></item>,\n",
       " <item><title>Nazanin Zaghari-Ratcliffe begins new hunger strike in Iran jail</title><description>British-Iranian mother was arrested for allegedly plotting against the Iranian government, charges she denies.</description><link>https://www.aljazeera.com/news/2019/06/nazanin-zaghari-ratcliffe-begins-hunger-strike-iran-jail-190615133339149.html</link><guid isPermaLink=\"false\">190615133339149</guid><pubDate>Sat, 15 Jun 2019 15:39:06 GMT</pubDate></item>,\n",
       " <item><title>Hong Kong leader delays extradition bill, protesters want more </title><description>Carrie Lam suspends controversial bill, but activists vow more protests saying proposed law must be shelved permanently.</description><link>https://www.aljazeera.com/news/2019/06/hong-kong-suspends-controversial-extradition-bill-backlash-190615072313040.html</link><guid isPermaLink=\"false\">190615072313040</guid><pubDate>Sat, 15 Jun 2019 15:20:37 GMT</pubDate></item>,\n",
       " <item><title>Mexico real estate price hikes leave thousands displaced</title><description>Mexicoâ€™s capital is one of the most expensive cities in Latin America, at least when it comes to the cost of owning a house.</description><link>https://www.aljazeera.com/news/2019/06/mexico-real-estate-price-hikes-leave-thousands-displaced-190615151318352.html</link><guid isPermaLink=\"false\">190615151318352</guid><pubDate>Sat, 15 Jun 2019 15:13:18 GMT</pubDate></item>,\n",
       " <item><title>Sudanâ€™s Omar al-Bashir to be referred to trial</title><description>Sudan's chief prosecutor has given the former president one week to appeal the charges.</description><link>https://www.aljazeera.com/news/2019/06/sudans-omar-al-bashir-referred-trial-190615150229448.html</link><guid isPermaLink=\"false\">190615150229448</guid><pubDate>Sat, 15 Jun 2019 15:02:29 GMT</pubDate></item>,\n",
       " <item><title>Hong Kong protests shape history</title><description>Certain liberties - like freedom of speech and an independent judiciary â€“ were supposed to stay until 2047.</description><link>https://www.aljazeera.com/news/2019/06/hong-kong-protests-shaping-history-190615145658959.html</link><guid isPermaLink=\"false\">190615145658959</guid><pubDate>Sat, 15 Jun 2019 14:56:58 GMT</pubDate></item>,\n",
       " <item><title>Years of conflict in Iraq hit health services in Basra</title><description>Experts say pollution from surrounding oilfields is one of the reasons why Basra has the highest rate of cancer in Iraq.</description><link>https://www.aljazeera.com/news/2019/06/years-conflict-iraq-hit-health-services-basra-190615132031813.html</link><guid isPermaLink=\"false\">190615132031813</guid><pubDate>Sat, 15 Jun 2019 13:20:31 GMT</pubDate></item>,\n",
       " <item><title>Nigeria land struggle: Farmers fight over resources</title><description>For centuries, the Fulani people have lived interdependent lives with the farmers but the past 30 years have tested that harmony.</description><link>https://www.aljazeera.com/news/2019/06/nigeria-land-struggle-farmers-fight-resources-190615125325385.html</link><guid isPermaLink=\"false\">190615125325385</guid><pubDate>Sat, 15 Jun 2019 12:53:25 GMT</pubDate></item>,\n",
       " <item><title>Kenya police officers killed in blast near Somalia border</title><description>At least 10 officers killed after vehicle struck an improvised explosive device in in Wajir County near Somali border.</description><link>https://www.aljazeera.com/news/2019/06/kenya-police-officers-killed-blast-somalia-border-190615122049040.html</link><guid isPermaLink=\"false\">190615122049040</guid><pubDate>Sat, 15 Jun 2019 12:29:30 GMT</pubDate></item>,\n",
       " <item><title>Modi's economic paradox: Strong growth, but where are the jobs?</title><description>Modi won a landslide election, but with unemployment in India at a 45-year high, what went wrong in his first term?</description><link>https://www.aljazeera.com/programmes/countingthecost/2019/06/modi-economic-paradox-strong-growth-jobs-190615075841205.html</link><guid isPermaLink=\"false\">190615075841205</guid><pubDate>Sat, 15 Jun 2019 12:22:30 GMT</pubDate></item>,\n",
       " <item><title>India journalists decry 'escalating attacks' on press freedom</title><description>Recent arrests appear to follow a pattern of attacks on press freedom since Modi's ascension to power, journalists say.</description><link>https://www.aljazeera.com/news/2019/06/india-journalists-decry-escalating-attacks-press-freedom-190615102209693.html</link><guid isPermaLink=\"false\">190615102209693</guid><pubDate>Sat, 15 Jun 2019 12:11:40 GMT</pubDate></item>,\n",
       " <item><title>Hong Kong protests: All the latest updates</title><description> Carrie Lam delayed a proposed law to allow people to be extradited to mainland China.</description><link>https://www.aljazeera.com/news/2019/06/hong-kong-protests-latest-updates-190612074625753.html</link><guid isPermaLink=\"false\">190612074625753</guid><pubDate>Sat, 15 Jun 2019 11:54:31 GMT</pubDate></item>,\n",
       " <item><title>US-Iran debates: Fake writers and state-funded trolling</title><description>Tax-funded smears &amp; a fake activist: worrying twists in the US-Iran propaganda war. Plus, Algeria's YouTube influencers.</description><link>https://www.aljazeera.com/programmes/listeningpost/2019/06/iran-debates-fake-writers-state-funded-trolling-190615074719872.html</link><guid isPermaLink=\"false\">190615074719872</guid><pubDate>Sat, 15 Jun 2019 11:30:25 GMT</pubDate></item>]"
      ]
     },
     "execution_count": 7,
     "metadata": {},
     "output_type": "execute_result"
    }
   ],
   "source": [
    "allItems = req_xml.findAll('item')\n",
    "allItems"
   ]
  },
  {
   "cell_type": "code",
   "execution_count": 8,
   "metadata": {},
   "outputs": [
    {
     "name": "stdout",
     "output_type": "stream",
     "text": [
      "<item><title>Is Iran to blame for suspected attacks on Gulf tankers?</title><description>Analysts examine US claim that Iran was behind the reported attacks on commercial ships in the Strait of Hormuz. </description><link>https://www.aljazeera.com/news/middleeast/2019/06/iran-blame-suspected-attacks-gulf-tankers-190615165831404.html</link><guid isPermaLink=\"false\">190615165831404</guid><pubDate>Sat, 15 Jun 2019 22:00:37 GMT</pubDate></item>\n",
      "<item><title>Cricket World Cup: India, Pakistan rivalry set to be renewed </title><description>Two sides take on each other in the World Cup, just months after calls for it to be cancelled following Pulwama attack.</description><link>https://www.aljazeera.com/news/2019/06/cricket-world-cup-india-pakistan-rivalry-set-renewed-190615175901048.html</link><guid isPermaLink=\"false\">190615175901048</guid><pubDate>Sat, 15 Jun 2019 21:15:14 GMT</pubDate></item>\n",
      "<item><title>Is South Sudan on the brink of famine?</title><description>The UN warns millions in South Sudan face a critical lack of food, despite a peace deal following its civil war.\r\n",
      "</description><link>https://www.aljazeera.com/programmes/insidestory/2019/06/south-sudan-brink-famine-190615203407217.html</link><guid isPermaLink=\"false\">190615203407217</guid><pubDate>Sat, 15 Jun 2019 21:01:44 GMT</pubDate></item>\n",
      "<item><title>Israel plans to entrench annexation of East Jerusalem: Report</title><description>Concerned that Jerusalem will soon have a non-Jewish majority, Israel may excise Palestinian areas of East Jerusalem.</description><link>https://www.aljazeera.com/news/middleeast/2019/06/israel-plans-entrench-annexation-east-jerusalem-report-190611194521022.html</link><guid isPermaLink=\"false\">190611194521022</guid><pubDate>Sat, 15 Jun 2019 20:50:00 GMT</pubDate></item>\n",
      "<item><title>Saudi Arabia calls for 'decisive' action over tanker attacks</title><description>Saudi Arabia and the United Arab Emirates urge swift international response to secure energy supplies.</description><link>https://www.aljazeera.com/news/2019/06/iran-renews-ultimatum-nuclear-deal-oil-tanker-tensions-190615090730002.html</link><guid isPermaLink=\"false\">190615090730002</guid><pubDate>Sat, 15 Jun 2019 20:36:05 GMT</pubDate></item>\n",
      "<item><title>Several civilians, dozens of fighters killed in Syria's Idlib</title><description>The Syrian government, backed by Russia, began bombarding the last rebel-held territory of Idlib in April.</description><link>https://www.aljazeera.com/news/2019/06/civilians-dozens-fighters-killed-syria-idlib-190615185507790.html</link><guid isPermaLink=\"false\">190615185507790</guid><pubDate>Sat, 15 Jun 2019 19:47:50 GMT</pubDate></item>\n",
      "<item><title>Somalia: Several killed in al-Shabab attacks in Mogadishu</title><description>Dozens of people were injured in the car bomb detonated near the parliament headquarters in Mogadishu.</description><link>https://www.aljazeera.com/news/2019/06/somalia-killed-al-shabab-attacks-mogadishu-190615165754730.html</link><guid isPermaLink=\"false\">190615165754730</guid><pubDate>Sat, 15 Jun 2019 19:39:53 GMT</pubDate></item>\n",
      "<item><title>Palestinians call for international day of action against Puma</title><description>Over 200 Palestinian football and sports clubs issue call to boycott Puma for sponsoring Israel Football Association.</description><link>https://www.aljazeera.com/news/2019/06/palestinians-call-international-day-action-puma-190615150714733.html</link><guid isPermaLink=\"false\">190615150714733</guid><pubDate>Sat, 15 Jun 2019 18:21:13 GMT</pubDate></item>\n",
      "<item><title>Guatemalaâ€™s elections: Five things to know</title><description>Presidential candidatesâ€™ proposals to address migration range from farmer support to US military bases</description><link>https://www.aljazeera.com/news/2019/06/guatemalas-elections-5-190615150744593.html</link><guid isPermaLink=\"false\">190615150744593</guid><pubDate>Sat, 15 Jun 2019 17:54:03 GMT</pubDate></item>\n",
      "<item><title>First Palestinian museum in Washington, DC, opens</title><description>Museum of the Palestinian People will exhibit artwork, cultural documentation from Palestinian contributors worldwide. </description><link>https://www.aljazeera.com/news/2019/06/palestinian-museum-washington-dc-opens-190615140559950.html</link><guid isPermaLink=\"false\">190615140559950</guid><pubDate>Sat, 15 Jun 2019 17:47:34 GMT</pubDate></item>\n",
      "<item><title>Corsica comes within 0.2C of heat record</title><description>Saharan wind makes for a surprisingly hot and dusty day on the small French island of Corsica.</description><link>https://www.aljazeera.com/news/2019/06/corsica-02c-time-heat-record-190615145951696.html</link><guid isPermaLink=\"false\">190615145951696</guid><pubDate>Sat, 15 Jun 2019 17:31:23 GMT</pubDate></item>\n",
      "<item><title>Sudan's ex-President Omar al-Bashir 'to face trial soon' </title><description>Chief prosecutor says toppled leader could appear in court as early as next week to face corruption charges. </description><link>https://www.aljazeera.com/news/africa/2019/06/sudan-president-omar-al-bashir-court-190615142442170.html</link><guid isPermaLink=\"false\">190615142442170</guid><pubDate>Sat, 15 Jun 2019 17:03:18 GMT</pubDate></item>\n",
      "<item><title>Iran renews nuclear deal ultimatum at Tajikistan summit</title><description>Iranâ€™s president uses conference in Tajikistan of leaders and diplomats from more than 30 Asian countries to reinforce May ultimatum.</description><link>https://www.aljazeera.com/news/2019/06/iran-renews-nuclear-deal-ultimatum-tajikistan-summit-190615162319657.html</link><guid isPermaLink=\"false\">190615162319657</guid><pubDate>Sat, 15 Jun 2019 16:23:19 GMT</pubDate></item>\n",
      "<item><title>Nazanin Zaghari-Ratcliffe begins new hunger strike in Iran jail</title><description>British-Iranian mother was arrested for allegedly plotting against the Iranian government, charges she denies.</description><link>https://www.aljazeera.com/news/2019/06/nazanin-zaghari-ratcliffe-begins-hunger-strike-iran-jail-190615133339149.html</link><guid isPermaLink=\"false\">190615133339149</guid><pubDate>Sat, 15 Jun 2019 15:39:06 GMT</pubDate></item>\n",
      "<item><title>Hong Kong leader delays extradition bill, protesters want more </title><description>Carrie Lam suspends controversial bill, but activists vow more protests saying proposed law must be shelved permanently.</description><link>https://www.aljazeera.com/news/2019/06/hong-kong-suspends-controversial-extradition-bill-backlash-190615072313040.html</link><guid isPermaLink=\"false\">190615072313040</guid><pubDate>Sat, 15 Jun 2019 15:20:37 GMT</pubDate></item>\n",
      "<item><title>Mexico real estate price hikes leave thousands displaced</title><description>Mexicoâ€™s capital is one of the most expensive cities in Latin America, at least when it comes to the cost of owning a house.</description><link>https://www.aljazeera.com/news/2019/06/mexico-real-estate-price-hikes-leave-thousands-displaced-190615151318352.html</link><guid isPermaLink=\"false\">190615151318352</guid><pubDate>Sat, 15 Jun 2019 15:13:18 GMT</pubDate></item>\n",
      "<item><title>Sudanâ€™s Omar al-Bashir to be referred to trial</title><description>Sudan's chief prosecutor has given the former president one week to appeal the charges.</description><link>https://www.aljazeera.com/news/2019/06/sudans-omar-al-bashir-referred-trial-190615150229448.html</link><guid isPermaLink=\"false\">190615150229448</guid><pubDate>Sat, 15 Jun 2019 15:02:29 GMT</pubDate></item>\n",
      "<item><title>Hong Kong protests shape history</title><description>Certain liberties - like freedom of speech and an independent judiciary â€“ were supposed to stay until 2047.</description><link>https://www.aljazeera.com/news/2019/06/hong-kong-protests-shaping-history-190615145658959.html</link><guid isPermaLink=\"false\">190615145658959</guid><pubDate>Sat, 15 Jun 2019 14:56:58 GMT</pubDate></item>\n",
      "<item><title>Years of conflict in Iraq hit health services in Basra</title><description>Experts say pollution from surrounding oilfields is one of the reasons why Basra has the highest rate of cancer in Iraq.</description><link>https://www.aljazeera.com/news/2019/06/years-conflict-iraq-hit-health-services-basra-190615132031813.html</link><guid isPermaLink=\"false\">190615132031813</guid><pubDate>Sat, 15 Jun 2019 13:20:31 GMT</pubDate></item>\n",
      "<item><title>Nigeria land struggle: Farmers fight over resources</title><description>For centuries, the Fulani people have lived interdependent lives with the farmers but the past 30 years have tested that harmony.</description><link>https://www.aljazeera.com/news/2019/06/nigeria-land-struggle-farmers-fight-resources-190615125325385.html</link><guid isPermaLink=\"false\">190615125325385</guid><pubDate>Sat, 15 Jun 2019 12:53:25 GMT</pubDate></item>\n",
      "<item><title>Kenya police officers killed in blast near Somalia border</title><description>At least 10 officers killed after vehicle struck an improvised explosive device in in Wajir County near Somali border.</description><link>https://www.aljazeera.com/news/2019/06/kenya-police-officers-killed-blast-somalia-border-190615122049040.html</link><guid isPermaLink=\"false\">190615122049040</guid><pubDate>Sat, 15 Jun 2019 12:29:30 GMT</pubDate></item>\n",
      "<item><title>Modi's economic paradox: Strong growth, but where are the jobs?</title><description>Modi won a landslide election, but with unemployment in India at a 45-year high, what went wrong in his first term?</description><link>https://www.aljazeera.com/programmes/countingthecost/2019/06/modi-economic-paradox-strong-growth-jobs-190615075841205.html</link><guid isPermaLink=\"false\">190615075841205</guid><pubDate>Sat, 15 Jun 2019 12:22:30 GMT</pubDate></item>\n",
      "<item><title>India journalists decry 'escalating attacks' on press freedom</title><description>Recent arrests appear to follow a pattern of attacks on press freedom since Modi's ascension to power, journalists say.</description><link>https://www.aljazeera.com/news/2019/06/india-journalists-decry-escalating-attacks-press-freedom-190615102209693.html</link><guid isPermaLink=\"false\">190615102209693</guid><pubDate>Sat, 15 Jun 2019 12:11:40 GMT</pubDate></item>\n",
      "<item><title>Hong Kong protests: All the latest updates</title><description> Carrie Lam delayed a proposed law to allow people to be extradited to mainland China.</description><link>https://www.aljazeera.com/news/2019/06/hong-kong-protests-latest-updates-190612074625753.html</link><guid isPermaLink=\"false\">190612074625753</guid><pubDate>Sat, 15 Jun 2019 11:54:31 GMT</pubDate></item>\n",
      "<item><title>US-Iran debates: Fake writers and state-funded trolling</title><description>Tax-funded smears &amp; a fake activist: worrying twists in the US-Iran propaganda war. Plus, Algeria's YouTube influencers.</description><link>https://www.aljazeera.com/programmes/listeningpost/2019/06/iran-debates-fake-writers-state-funded-trolling-190615074719872.html</link><guid isPermaLink=\"false\">190615074719872</guid><pubDate>Sat, 15 Jun 2019 11:30:25 GMT</pubDate></item>\n"
     ]
    }
   ],
   "source": [
    "for eachItem in allItems:\n",
    "    print(eachItem)"
   ]
  },
  {
   "cell_type": "code",
   "execution_count": 9,
   "metadata": {},
   "outputs": [
    {
     "name": "stdout",
     "output_type": "stream",
     "text": [
      "<title>Al Jazeera English</title>\n",
      "<title>Al Jazeera English</title>\n",
      "<title>Is Iran to blame for suspected attacks on Gulf tankers?</title>\n",
      "<title>Cricket World Cup: India, Pakistan rivalry set to be renewed </title>\n",
      "<title>Is South Sudan on the brink of famine?</title>\n",
      "<title>Israel plans to entrench annexation of East Jerusalem: Report</title>\n",
      "<title>Saudi Arabia calls for 'decisive' action over tanker attacks</title>\n",
      "<title>Several civilians, dozens of fighters killed in Syria's Idlib</title>\n",
      "<title>Somalia: Several killed in al-Shabab attacks in Mogadishu</title>\n",
      "<title>Palestinians call for international day of action against Puma</title>\n",
      "<title>Guatemalaâ€™s elections: Five things to know</title>\n",
      "<title>First Palestinian museum in Washington, DC, opens</title>\n",
      "<title>Corsica comes within 0.2C of heat record</title>\n",
      "<title>Sudan's ex-President Omar al-Bashir 'to face trial soon' </title>\n",
      "<title>Iran renews nuclear deal ultimatum at Tajikistan summit</title>\n",
      "<title>Nazanin Zaghari-Ratcliffe begins new hunger strike in Iran jail</title>\n",
      "<title>Hong Kong leader delays extradition bill, protesters want more </title>\n",
      "<title>Mexico real estate price hikes leave thousands displaced</title>\n",
      "<title>Sudanâ€™s Omar al-Bashir to be referred to trial</title>\n",
      "<title>Hong Kong protests shape history</title>\n",
      "<title>Years of conflict in Iraq hit health services in Basra</title>\n",
      "<title>Nigeria land struggle: Farmers fight over resources</title>\n",
      "<title>Kenya police officers killed in blast near Somalia border</title>\n",
      "<title>Modi's economic paradox: Strong growth, but where are the jobs?</title>\n",
      "<title>India journalists decry 'escalating attacks' on press freedom</title>\n",
      "<title>Hong Kong protests: All the latest updates</title>\n",
      "<title>US-Iran debates: Fake writers and state-funded trolling</title>\n"
     ]
    }
   ],
   "source": [
    "for eachItem in req_xml.findAll('title'):\n",
    "    print(eachItem)"
   ]
  },
  {
   "cell_type": "code",
   "execution_count": 10,
   "metadata": {},
   "outputs": [
    {
     "name": "stdout",
     "output_type": "stream",
     "text": [
      "Al Jazeera English\n",
      "Al Jazeera English\n",
      "Is Iran to blame for suspected attacks on Gulf tankers?\n",
      "Cricket World Cup: India, Pakistan rivalry set to be renewed \n",
      "Is South Sudan on the brink of famine?\n",
      "Israel plans to entrench annexation of East Jerusalem: Report\n",
      "Saudi Arabia calls for 'decisive' action over tanker attacks\n",
      "Several civilians, dozens of fighters killed in Syria's Idlib\n",
      "Somalia: Several killed in al-Shabab attacks in Mogadishu\n",
      "Palestinians call for international day of action against Puma\n",
      "Guatemalaâ€™s elections: Five things to know\n",
      "First Palestinian museum in Washington, DC, opens\n",
      "Corsica comes within 0.2C of heat record\n",
      "Sudan's ex-President Omar al-Bashir 'to face trial soon' \n",
      "Iran renews nuclear deal ultimatum at Tajikistan summit\n",
      "Nazanin Zaghari-Ratcliffe begins new hunger strike in Iran jail\n",
      "Hong Kong leader delays extradition bill, protesters want more \n",
      "Mexico real estate price hikes leave thousands displaced\n",
      "Sudanâ€™s Omar al-Bashir to be referred to trial\n",
      "Hong Kong protests shape history\n",
      "Years of conflict in Iraq hit health services in Basra\n",
      "Nigeria land struggle: Farmers fight over resources\n",
      "Kenya police officers killed in blast near Somalia border\n",
      "Modi's economic paradox: Strong growth, but where are the jobs?\n",
      "India journalists decry 'escalating attacks' on press freedom\n",
      "Hong Kong protests: All the latest updates\n",
      "US-Iran debates: Fake writers and state-funded trolling\n"
     ]
    }
   ],
   "source": [
    "# to reference without the tags\n",
    "# use text\n",
    "for eachItem in req_xml.findAll('title'):\n",
    "    print(eachItem.text)"
   ]
  },
  {
   "cell_type": "code",
   "execution_count": null,
   "metadata": {},
   "outputs": [],
   "source": [
    "# to reference without the tags\n",
    "# use text\n",
    "for eachItem in req_xml.findAll('link'):\n",
    "    print(eachItem.text)"
   ]
  },
  {
   "cell_type": "code",
   "execution_count": null,
   "metadata": {},
   "outputs": [],
   "source": [
    "print(20 * \"#\")"
   ]
  },
  {
   "cell_type": "code",
   "execution_count": null,
   "metadata": {},
   "outputs": [],
   "source": []
  }
 ],
 "metadata": {
  "kernelspec": {
   "display_name": "Python 3",
   "language": "python",
   "name": "python3"
  },
  "language_info": {
   "codemirror_mode": {
    "name": "ipython",
    "version": 3
   },
   "file_extension": ".py",
   "mimetype": "text/x-python",
   "name": "python",
   "nbconvert_exporter": "python",
   "pygments_lexer": "ipython3",
   "version": "3.6.5"
  }
 },
 "nbformat": 4,
 "nbformat_minor": 2
}
