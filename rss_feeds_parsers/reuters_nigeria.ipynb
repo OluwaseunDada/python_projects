{
 "cells": [
  {
   "cell_type": "code",
   "execution_count": 1,
   "metadata": {},
   "outputs": [],
   "source": [
    "# https://www.youtube.com/watch?v=pKz1faPVNMA&list=PL5eJgcQ87sgfUrc6an-0Swam0kQXVYnuw&index=16\n",
    "from bs4 import BeautifulSoup"
   ]
  },
  {
   "cell_type": "code",
   "execution_count": 2,
   "metadata": {},
   "outputs": [],
   "source": [
    "import urllib.request"
   ]
  },
  {
   "cell_type": "code",
   "execution_count": 3,
   "metadata": {},
   "outputs": [],
   "source": [
    "yahoo_world_news_rss = 'https://www.yahoo.com/news/rss/world'"
   ]
  },
  {
   "cell_type": "code",
   "execution_count": 4,
   "metadata": {},
   "outputs": [],
   "source": [
    "req = urllib.request.urlopen(yahoo_world_news_rss)"
   ]
  },
  {
   "cell_type": "code",
   "execution_count": 5,
   "metadata": {},
   "outputs": [],
   "source": [
    "req_xml = BeautifulSoup(req, 'xml')"
   ]
  },
  {
   "cell_type": "code",
   "execution_count": 6,
   "metadata": {},
   "outputs": [
    {
     "data": {
      "text/plain": [
       "<?xml version=\"1.0\" encoding=\"utf-8\"?>\n",
       "<rss version=\"2.0\" xmlns:media=\"http://search.yahoo.com/mrss/\"><channel><title>Yahoo News - Latest News &amp; Headlines</title><link>https://www.yahoo.com/news/world</link><description>The latest news and headlines from Yahoo! News. Get breaking news stories and in-depth coverage with videos and photos.</description><language>en-US</language><copyright>Copyright (c) 2019 Yahoo! Inc. All rights reserved</copyright><pubDate>Sat, 15 Jun 2019 21:16:36 -0400</pubDate><ttl>5</ttl><image><title>Yahoo News - Latest News &amp; Headlines</title><link>https://www.yahoo.com/news/world</link><url>http://l.yimg.com/rz/d/yahoo_news_en-US_s_f_p_168x21_news.png</url></image><item><title>Readers write: ‘Who’ versus ‘whom,’ GPS adventures, immigration activist</title><description>&lt;p&gt;&lt;a href=\"https://news.yahoo.com/readers-write-versus-whom-gps-adventures-immigration-activist-100001122--politics.html\"&gt;&lt;img src=\"\" width=\"130\" height=\"86\" alt=\"Readers write: ‘Who’ versus ‘whom,’ GPS adventures, immigration activist\" align=\"left\" title=\"Readers write: ‘Who’ versus ‘whom,’ GPS adventures, immigration activist\" border=\"0\" &gt;&lt;/a&gt;The May 20 “In a Word” column by Melissa Mohr titled “The waning use of the word ‘whom’” really got my attention.  Suddenly, the voice of the GPS told us to make an exit we both knew was wrong – so we ignored it and arrived at our destination right on time.&lt;p&gt;&lt;br clear=\"all\"&gt;</description><link>https://news.yahoo.com/readers-write-versus-whom-gps-adventures-immigration-activist-100001122--politics.html</link><pubDate>Sat, 15 Jun 2019 06:00:01 -0400</pubDate><source url=\"http://www.csmonitor.com/\">Christian Science Monitor</source><guid isPermaLink=\"false\">readers-write-versus-whom-gps-adventures-immigration-activist-100001122--politics.html</guid><media:content height=\"86\" url=\"\" width=\"130\"/><media:text type=\"html\">&lt;p&gt;&lt;a href=\"https://news.yahoo.com/readers-write-versus-whom-gps-adventures-immigration-activist-100001122--politics.html\"&gt;&lt;img src=\"\" width=\"130\" height=\"86\" alt=\"Readers write: ‘Who’ versus ‘whom,’ GPS adventures, immigration activist\" align=\"left\" title=\"Readers write: ‘Who’ versus ‘whom,’ GPS adventures, immigration activist\" border=\"0\" &gt;&lt;/a&gt;The May 20 “In a Word” column by Melissa Mohr titled “The waning use of the word ‘whom’” really got my attention.  Suddenly, the voice of the GPS told us to make an exit we both knew was wrong – so we ignored it and arrived at our destination right on time.&lt;p&gt;&lt;br clear=\"all\"&gt;</media:text><media:credit role=\"publishing company\"/></item><item><title>Russian internet giant Yandex takes rare stand against state snooping</title><description>&lt;p&gt;&lt;a href=\"https://news.yahoo.com/russian-internet-giant-yandex-takes-rare-stand-against-191958136.html\"&gt;&lt;img src=\"\" width=\"130\" height=\"86\" alt=\"Russian internet giant Yandex takes rare stand against state snooping\" align=\"left\" title=\"Russian internet giant Yandex takes rare stand against state snooping\" border=\"0\" &gt;&lt;/a&gt;Russia has always been some version of a national security state, in which individuals, companies, and other group interests are expected to unquestioningly submit to the needs and demands of state agencies.  As surprising, if not more so, was that Yandex seemed to resist the FSB’s demands – with the backing of some government officials.&lt;p&gt;&lt;br clear=\"all\"&gt;</description><link>https://news.yahoo.com/russian-internet-giant-yandex-takes-rare-stand-against-191958136.html</link><pubDate>Fri, 14 Jun 2019 15:19:58 -0400</pubDate><source url=\"http://www.csmonitor.com/\">Christian Science Monitor</source><guid isPermaLink=\"false\">russian-internet-giant-yandex-takes-rare-stand-against-191958136.html</guid><media:content height=\"86\" url=\"\" width=\"130\"/><media:text type=\"html\">&lt;p&gt;&lt;a href=\"https://news.yahoo.com/russian-internet-giant-yandex-takes-rare-stand-against-191958136.html\"&gt;&lt;img src=\"\" width=\"130\" height=\"86\" alt=\"Russian internet giant Yandex takes rare stand against state snooping\" align=\"left\" title=\"Russian internet giant Yandex takes rare stand against state snooping\" border=\"0\" &gt;&lt;/a&gt;Russia has always been some version of a national security state, in which individuals, companies, and other group interests are expected to unquestioningly submit to the needs and demands of state agencies.  As surprising, if not more so, was that Yandex seemed to resist the FSB’s demands – with the backing of some government officials.&lt;p&gt;&lt;br clear=\"all\"&gt;</media:text><media:credit role=\"publishing company\"/></item><item><title>Robots: Job killers or co-workers?</title><description>&lt;p&gt;&lt;a href=\"https://news.yahoo.com/robots-job-killers-co-workers-190333823--politics.html\"&gt;&lt;img src=\"\" width=\"130\" height=\"86\" alt=\"Robots: Job killers or co-workers?\" align=\"left\" title=\"Robots: Job killers or co-workers?\" border=\"0\" &gt;&lt;/a&gt;Will a robot snatch away your job? Or will you learn to love intelligent machines as co-workers?&lt;p&gt;&lt;br clear=\"all\"&gt;</description><link>https://news.yahoo.com/robots-job-killers-co-workers-190333823--politics.html</link><pubDate>Fri, 14 Jun 2019 15:03:33 -0400</pubDate><source url=\"http://www.csmonitor.com/\">Christian Science Monitor</source><guid isPermaLink=\"false\">robots-job-killers-co-workers-190333823--politics.html</guid><media:content height=\"86\" url=\"\" width=\"130\"/><media:text type=\"html\">&lt;p&gt;&lt;a href=\"https://news.yahoo.com/robots-job-killers-co-workers-190333823--politics.html\"&gt;&lt;img src=\"\" width=\"130\" height=\"86\" alt=\"Robots: Job killers or co-workers?\" align=\"left\" title=\"Robots: Job killers or co-workers?\" border=\"0\" &gt;&lt;/a&gt;Will a robot snatch away your job? Or will you learn to love intelligent machines as co-workers?&lt;p&gt;&lt;br clear=\"all\"&gt;</media:text><media:credit role=\"publishing company\"/></item><item><title>Why Cuba’s zip lines and B&amp;B’s have fallen on hard times</title><description>&lt;p&gt;&lt;a href=\"https://news.yahoo.com/why-cuba-zip-lines-b-b-fallen-hard-183812571.html\"&gt;&lt;img src=\"\" width=\"130\" height=\"86\" alt=\"Why Cuba’s zip lines and B&amp;B’s have fallen on hard times\" align=\"left\" title=\"Why Cuba’s zip lines and B&amp;B’s have fallen on hard times\" border=\"0\" &gt;&lt;/a&gt;Las Terrazas employees clip visitors to the wire cable one by one and give them a small push.  Like many of the other employees, Ms. González has lived and worked at Las Terrazas, a nature reserve and tourist destination west of Havana, her entire life, so she is used to touring strangers around her home.  Recent hurricanes have affected tourism numbers in beach resort towns like Varadero, Cuba, but the tourism market in Las Terrazas has been hit by more than storms, says Ms. González.&lt;p&gt;&lt;br clear=\"all\"&gt;</description><link>https://news.yahoo.com/why-cuba-zip-lines-b-b-fallen-hard-183812571.html</link><pubDate>Fri, 14 Jun 2019 14:38:12 -0400</pubDate><source url=\"http://www.csmonitor.com/\">Christian Science Monitor</source><guid isPermaLink=\"false\">why-cuba-zip-lines-b-b-fallen-hard-183812571.html</guid><media:content height=\"86\" url=\"\" width=\"130\"/><media:text type=\"html\">&lt;p&gt;&lt;a href=\"https://news.yahoo.com/why-cuba-zip-lines-b-b-fallen-hard-183812571.html\"&gt;&lt;img src=\"\" width=\"130\" height=\"86\" alt=\"Why Cuba’s zip lines and B&amp;B’s have fallen on hard times\" align=\"left\" title=\"Why Cuba’s zip lines and B&amp;B’s have fallen on hard times\" border=\"0\" &gt;&lt;/a&gt;Las Terrazas employees clip visitors to the wire cable one by one and give them a small push.  Like many of the other employees, Ms. González has lived and worked at Las Terrazas, a nature reserve and tourist destination west of Havana, her entire life, so she is used to touring strangers around her home.  Recent hurricanes have affected tourism numbers in beach resort towns like Varadero, Cuba, but the tourism market in Las Terrazas has been hit by more than storms, says Ms. González.&lt;p&gt;&lt;br clear=\"all\"&gt;</media:text><media:credit role=\"publishing company\"/></item></channel></rss>"
      ]
     },
     "execution_count": 6,
     "metadata": {},
     "output_type": "execute_result"
    }
   ],
   "source": [
    "req_xml"
   ]
  },
  {
   "cell_type": "code",
   "execution_count": 7,
   "metadata": {},
   "outputs": [
    {
     "data": {
      "text/plain": [
       "[<item><title>Readers write: ‘Who’ versus ‘whom,’ GPS adventures, immigration activist</title><description>&lt;p&gt;&lt;a href=\"https://news.yahoo.com/readers-write-versus-whom-gps-adventures-immigration-activist-100001122--politics.html\"&gt;&lt;img src=\"\" width=\"130\" height=\"86\" alt=\"Readers write: ‘Who’ versus ‘whom,’ GPS adventures, immigration activist\" align=\"left\" title=\"Readers write: ‘Who’ versus ‘whom,’ GPS adventures, immigration activist\" border=\"0\" &gt;&lt;/a&gt;The May 20 “In a Word” column by Melissa Mohr titled “The waning use of the word ‘whom’” really got my attention.  Suddenly, the voice of the GPS told us to make an exit we both knew was wrong – so we ignored it and arrived at our destination right on time.&lt;p&gt;&lt;br clear=\"all\"&gt;</description><link>https://news.yahoo.com/readers-write-versus-whom-gps-adventures-immigration-activist-100001122--politics.html</link><pubDate>Sat, 15 Jun 2019 06:00:01 -0400</pubDate><source url=\"http://www.csmonitor.com/\">Christian Science Monitor</source><guid isPermaLink=\"false\">readers-write-versus-whom-gps-adventures-immigration-activist-100001122--politics.html</guid><media:content height=\"86\" url=\"\" width=\"130\"/><media:text type=\"html\">&lt;p&gt;&lt;a href=\"https://news.yahoo.com/readers-write-versus-whom-gps-adventures-immigration-activist-100001122--politics.html\"&gt;&lt;img src=\"\" width=\"130\" height=\"86\" alt=\"Readers write: ‘Who’ versus ‘whom,’ GPS adventures, immigration activist\" align=\"left\" title=\"Readers write: ‘Who’ versus ‘whom,’ GPS adventures, immigration activist\" border=\"0\" &gt;&lt;/a&gt;The May 20 “In a Word” column by Melissa Mohr titled “The waning use of the word ‘whom’” really got my attention.  Suddenly, the voice of the GPS told us to make an exit we both knew was wrong – so we ignored it and arrived at our destination right on time.&lt;p&gt;&lt;br clear=\"all\"&gt;</media:text><media:credit role=\"publishing company\"/></item>,\n",
       " <item><title>Russian internet giant Yandex takes rare stand against state snooping</title><description>&lt;p&gt;&lt;a href=\"https://news.yahoo.com/russian-internet-giant-yandex-takes-rare-stand-against-191958136.html\"&gt;&lt;img src=\"\" width=\"130\" height=\"86\" alt=\"Russian internet giant Yandex takes rare stand against state snooping\" align=\"left\" title=\"Russian internet giant Yandex takes rare stand against state snooping\" border=\"0\" &gt;&lt;/a&gt;Russia has always been some version of a national security state, in which individuals, companies, and other group interests are expected to unquestioningly submit to the needs and demands of state agencies.  As surprising, if not more so, was that Yandex seemed to resist the FSB’s demands – with the backing of some government officials.&lt;p&gt;&lt;br clear=\"all\"&gt;</description><link>https://news.yahoo.com/russian-internet-giant-yandex-takes-rare-stand-against-191958136.html</link><pubDate>Fri, 14 Jun 2019 15:19:58 -0400</pubDate><source url=\"http://www.csmonitor.com/\">Christian Science Monitor</source><guid isPermaLink=\"false\">russian-internet-giant-yandex-takes-rare-stand-against-191958136.html</guid><media:content height=\"86\" url=\"\" width=\"130\"/><media:text type=\"html\">&lt;p&gt;&lt;a href=\"https://news.yahoo.com/russian-internet-giant-yandex-takes-rare-stand-against-191958136.html\"&gt;&lt;img src=\"\" width=\"130\" height=\"86\" alt=\"Russian internet giant Yandex takes rare stand against state snooping\" align=\"left\" title=\"Russian internet giant Yandex takes rare stand against state snooping\" border=\"0\" &gt;&lt;/a&gt;Russia has always been some version of a national security state, in which individuals, companies, and other group interests are expected to unquestioningly submit to the needs and demands of state agencies.  As surprising, if not more so, was that Yandex seemed to resist the FSB’s demands – with the backing of some government officials.&lt;p&gt;&lt;br clear=\"all\"&gt;</media:text><media:credit role=\"publishing company\"/></item>,\n",
       " <item><title>Robots: Job killers or co-workers?</title><description>&lt;p&gt;&lt;a href=\"https://news.yahoo.com/robots-job-killers-co-workers-190333823--politics.html\"&gt;&lt;img src=\"\" width=\"130\" height=\"86\" alt=\"Robots: Job killers or co-workers?\" align=\"left\" title=\"Robots: Job killers or co-workers?\" border=\"0\" &gt;&lt;/a&gt;Will a robot snatch away your job? Or will you learn to love intelligent machines as co-workers?&lt;p&gt;&lt;br clear=\"all\"&gt;</description><link>https://news.yahoo.com/robots-job-killers-co-workers-190333823--politics.html</link><pubDate>Fri, 14 Jun 2019 15:03:33 -0400</pubDate><source url=\"http://www.csmonitor.com/\">Christian Science Monitor</source><guid isPermaLink=\"false\">robots-job-killers-co-workers-190333823--politics.html</guid><media:content height=\"86\" url=\"\" width=\"130\"/><media:text type=\"html\">&lt;p&gt;&lt;a href=\"https://news.yahoo.com/robots-job-killers-co-workers-190333823--politics.html\"&gt;&lt;img src=\"\" width=\"130\" height=\"86\" alt=\"Robots: Job killers or co-workers?\" align=\"left\" title=\"Robots: Job killers or co-workers?\" border=\"0\" &gt;&lt;/a&gt;Will a robot snatch away your job? Or will you learn to love intelligent machines as co-workers?&lt;p&gt;&lt;br clear=\"all\"&gt;</media:text><media:credit role=\"publishing company\"/></item>,\n",
       " <item><title>Why Cuba’s zip lines and B&amp;B’s have fallen on hard times</title><description>&lt;p&gt;&lt;a href=\"https://news.yahoo.com/why-cuba-zip-lines-b-b-fallen-hard-183812571.html\"&gt;&lt;img src=\"\" width=\"130\" height=\"86\" alt=\"Why Cuba’s zip lines and B&amp;B’s have fallen on hard times\" align=\"left\" title=\"Why Cuba’s zip lines and B&amp;B’s have fallen on hard times\" border=\"0\" &gt;&lt;/a&gt;Las Terrazas employees clip visitors to the wire cable one by one and give them a small push.  Like many of the other employees, Ms. González has lived and worked at Las Terrazas, a nature reserve and tourist destination west of Havana, her entire life, so she is used to touring strangers around her home.  Recent hurricanes have affected tourism numbers in beach resort towns like Varadero, Cuba, but the tourism market in Las Terrazas has been hit by more than storms, says Ms. González.&lt;p&gt;&lt;br clear=\"all\"&gt;</description><link>https://news.yahoo.com/why-cuba-zip-lines-b-b-fallen-hard-183812571.html</link><pubDate>Fri, 14 Jun 2019 14:38:12 -0400</pubDate><source url=\"http://www.csmonitor.com/\">Christian Science Monitor</source><guid isPermaLink=\"false\">why-cuba-zip-lines-b-b-fallen-hard-183812571.html</guid><media:content height=\"86\" url=\"\" width=\"130\"/><media:text type=\"html\">&lt;p&gt;&lt;a href=\"https://news.yahoo.com/why-cuba-zip-lines-b-b-fallen-hard-183812571.html\"&gt;&lt;img src=\"\" width=\"130\" height=\"86\" alt=\"Why Cuba’s zip lines and B&amp;B’s have fallen on hard times\" align=\"left\" title=\"Why Cuba’s zip lines and B&amp;B’s have fallen on hard times\" border=\"0\" &gt;&lt;/a&gt;Las Terrazas employees clip visitors to the wire cable one by one and give them a small push.  Like many of the other employees, Ms. González has lived and worked at Las Terrazas, a nature reserve and tourist destination west of Havana, her entire life, so she is used to touring strangers around her home.  Recent hurricanes have affected tourism numbers in beach resort towns like Varadero, Cuba, but the tourism market in Las Terrazas has been hit by more than storms, says Ms. González.&lt;p&gt;&lt;br clear=\"all\"&gt;</media:text><media:credit role=\"publishing company\"/></item>]"
      ]
     },
     "execution_count": 7,
     "metadata": {},
     "output_type": "execute_result"
    }
   ],
   "source": [
    "allItems = req_xml.findAll('item')\n",
    "allItems"
   ]
  },
  {
   "cell_type": "code",
   "execution_count": 8,
   "metadata": {},
   "outputs": [
    {
     "name": "stdout",
     "output_type": "stream",
     "text": [
      "<item><title>Readers write: ‘Who’ versus ‘whom,’ GPS adventures, immigration activist</title><description>&lt;p&gt;&lt;a href=\"https://news.yahoo.com/readers-write-versus-whom-gps-adventures-immigration-activist-100001122--politics.html\"&gt;&lt;img src=\"\" width=\"130\" height=\"86\" alt=\"Readers write: ‘Who’ versus ‘whom,’ GPS adventures, immigration activist\" align=\"left\" title=\"Readers write: ‘Who’ versus ‘whom,’ GPS adventures, immigration activist\" border=\"0\" &gt;&lt;/a&gt;The May 20 “In a Word” column by Melissa Mohr titled “The waning use of the word ‘whom’” really got my attention.  Suddenly, the voice of the GPS told us to make an exit we both knew was wrong – so we ignored it and arrived at our destination right on time.&lt;p&gt;&lt;br clear=\"all\"&gt;</description><link>https://news.yahoo.com/readers-write-versus-whom-gps-adventures-immigration-activist-100001122--politics.html</link><pubDate>Sat, 15 Jun 2019 06:00:01 -0400</pubDate><source url=\"http://www.csmonitor.com/\">Christian Science Monitor</source><guid isPermaLink=\"false\">readers-write-versus-whom-gps-adventures-immigration-activist-100001122--politics.html</guid><media:content height=\"86\" url=\"\" width=\"130\"/><media:text type=\"html\">&lt;p&gt;&lt;a href=\"https://news.yahoo.com/readers-write-versus-whom-gps-adventures-immigration-activist-100001122--politics.html\"&gt;&lt;img src=\"\" width=\"130\" height=\"86\" alt=\"Readers write: ‘Who’ versus ‘whom,’ GPS adventures, immigration activist\" align=\"left\" title=\"Readers write: ‘Who’ versus ‘whom,’ GPS adventures, immigration activist\" border=\"0\" &gt;&lt;/a&gt;The May 20 “In a Word” column by Melissa Mohr titled “The waning use of the word ‘whom’” really got my attention.  Suddenly, the voice of the GPS told us to make an exit we both knew was wrong – so we ignored it and arrived at our destination right on time.&lt;p&gt;&lt;br clear=\"all\"&gt;</media:text><media:credit role=\"publishing company\"/></item>\n",
      "<item><title>Russian internet giant Yandex takes rare stand against state snooping</title><description>&lt;p&gt;&lt;a href=\"https://news.yahoo.com/russian-internet-giant-yandex-takes-rare-stand-against-191958136.html\"&gt;&lt;img src=\"\" width=\"130\" height=\"86\" alt=\"Russian internet giant Yandex takes rare stand against state snooping\" align=\"left\" title=\"Russian internet giant Yandex takes rare stand against state snooping\" border=\"0\" &gt;&lt;/a&gt;Russia has always been some version of a national security state, in which individuals, companies, and other group interests are expected to unquestioningly submit to the needs and demands of state agencies.  As surprising, if not more so, was that Yandex seemed to resist the FSB’s demands – with the backing of some government officials.&lt;p&gt;&lt;br clear=\"all\"&gt;</description><link>https://news.yahoo.com/russian-internet-giant-yandex-takes-rare-stand-against-191958136.html</link><pubDate>Fri, 14 Jun 2019 15:19:58 -0400</pubDate><source url=\"http://www.csmonitor.com/\">Christian Science Monitor</source><guid isPermaLink=\"false\">russian-internet-giant-yandex-takes-rare-stand-against-191958136.html</guid><media:content height=\"86\" url=\"\" width=\"130\"/><media:text type=\"html\">&lt;p&gt;&lt;a href=\"https://news.yahoo.com/russian-internet-giant-yandex-takes-rare-stand-against-191958136.html\"&gt;&lt;img src=\"\" width=\"130\" height=\"86\" alt=\"Russian internet giant Yandex takes rare stand against state snooping\" align=\"left\" title=\"Russian internet giant Yandex takes rare stand against state snooping\" border=\"0\" &gt;&lt;/a&gt;Russia has always been some version of a national security state, in which individuals, companies, and other group interests are expected to unquestioningly submit to the needs and demands of state agencies.  As surprising, if not more so, was that Yandex seemed to resist the FSB’s demands – with the backing of some government officials.&lt;p&gt;&lt;br clear=\"all\"&gt;</media:text><media:credit role=\"publishing company\"/></item>\n",
      "<item><title>Robots: Job killers or co-workers?</title><description>&lt;p&gt;&lt;a href=\"https://news.yahoo.com/robots-job-killers-co-workers-190333823--politics.html\"&gt;&lt;img src=\"\" width=\"130\" height=\"86\" alt=\"Robots: Job killers or co-workers?\" align=\"left\" title=\"Robots: Job killers or co-workers?\" border=\"0\" &gt;&lt;/a&gt;Will a robot snatch away your job? Or will you learn to love intelligent machines as co-workers?&lt;p&gt;&lt;br clear=\"all\"&gt;</description><link>https://news.yahoo.com/robots-job-killers-co-workers-190333823--politics.html</link><pubDate>Fri, 14 Jun 2019 15:03:33 -0400</pubDate><source url=\"http://www.csmonitor.com/\">Christian Science Monitor</source><guid isPermaLink=\"false\">robots-job-killers-co-workers-190333823--politics.html</guid><media:content height=\"86\" url=\"\" width=\"130\"/><media:text type=\"html\">&lt;p&gt;&lt;a href=\"https://news.yahoo.com/robots-job-killers-co-workers-190333823--politics.html\"&gt;&lt;img src=\"\" width=\"130\" height=\"86\" alt=\"Robots: Job killers or co-workers?\" align=\"left\" title=\"Robots: Job killers or co-workers?\" border=\"0\" &gt;&lt;/a&gt;Will a robot snatch away your job? Or will you learn to love intelligent machines as co-workers?&lt;p&gt;&lt;br clear=\"all\"&gt;</media:text><media:credit role=\"publishing company\"/></item>\n",
      "<item><title>Why Cuba’s zip lines and B&amp;B’s have fallen on hard times</title><description>&lt;p&gt;&lt;a href=\"https://news.yahoo.com/why-cuba-zip-lines-b-b-fallen-hard-183812571.html\"&gt;&lt;img src=\"\" width=\"130\" height=\"86\" alt=\"Why Cuba’s zip lines and B&amp;B’s have fallen on hard times\" align=\"left\" title=\"Why Cuba’s zip lines and B&amp;B’s have fallen on hard times\" border=\"0\" &gt;&lt;/a&gt;Las Terrazas employees clip visitors to the wire cable one by one and give them a small push.  Like many of the other employees, Ms. González has lived and worked at Las Terrazas, a nature reserve and tourist destination west of Havana, her entire life, so she is used to touring strangers around her home.  Recent hurricanes have affected tourism numbers in beach resort towns like Varadero, Cuba, but the tourism market in Las Terrazas has been hit by more than storms, says Ms. González.&lt;p&gt;&lt;br clear=\"all\"&gt;</description><link>https://news.yahoo.com/why-cuba-zip-lines-b-b-fallen-hard-183812571.html</link><pubDate>Fri, 14 Jun 2019 14:38:12 -0400</pubDate><source url=\"http://www.csmonitor.com/\">Christian Science Monitor</source><guid isPermaLink=\"false\">why-cuba-zip-lines-b-b-fallen-hard-183812571.html</guid><media:content height=\"86\" url=\"\" width=\"130\"/><media:text type=\"html\">&lt;p&gt;&lt;a href=\"https://news.yahoo.com/why-cuba-zip-lines-b-b-fallen-hard-183812571.html\"&gt;&lt;img src=\"\" width=\"130\" height=\"86\" alt=\"Why Cuba’s zip lines and B&amp;B’s have fallen on hard times\" align=\"left\" title=\"Why Cuba’s zip lines and B&amp;B’s have fallen on hard times\" border=\"0\" &gt;&lt;/a&gt;Las Terrazas employees clip visitors to the wire cable one by one and give them a small push.  Like many of the other employees, Ms. González has lived and worked at Las Terrazas, a nature reserve and tourist destination west of Havana, her entire life, so she is used to touring strangers around her home.  Recent hurricanes have affected tourism numbers in beach resort towns like Varadero, Cuba, but the tourism market in Las Terrazas has been hit by more than storms, says Ms. González.&lt;p&gt;&lt;br clear=\"all\"&gt;</media:text><media:credit role=\"publishing company\"/></item>\n"
     ]
    }
   ],
   "source": [
    "for eachItem in allItems:\n",
    "    print(eachItem)"
   ]
  },
  {
   "cell_type": "code",
   "execution_count": 9,
   "metadata": {},
   "outputs": [
    {
     "name": "stdout",
     "output_type": "stream",
     "text": [
      "<title>Yahoo News - Latest News &amp; Headlines</title>\n",
      "<title>Yahoo News - Latest News &amp; Headlines</title>\n",
      "<title>Readers write: ‘Who’ versus ‘whom,’ GPS adventures, immigration activist</title>\n",
      "<title>Russian internet giant Yandex takes rare stand against state snooping</title>\n",
      "<title>Robots: Job killers or co-workers?</title>\n",
      "<title>Why Cuba’s zip lines and B&amp;B’s have fallen on hard times</title>\n"
     ]
    }
   ],
   "source": [
    "for eachItem in req_xml.findAll('title'):\n",
    "    print(eachItem)"
   ]
  },
  {
   "cell_type": "code",
   "execution_count": 10,
   "metadata": {},
   "outputs": [
    {
     "name": "stdout",
     "output_type": "stream",
     "text": [
      "Yahoo News - Latest News & Headlines\n",
      "Yahoo News - Latest News & Headlines\n",
      "Readers write: ‘Who’ versus ‘whom,’ GPS adventures, immigration activist\n",
      "Russian internet giant Yandex takes rare stand against state snooping\n",
      "Robots: Job killers or co-workers?\n",
      "Why Cuba’s zip lines and B&B’s have fallen on hard times\n"
     ]
    }
   ],
   "source": [
    "# to reference without the tags\n",
    "# use text\n",
    "for eachItem in req_xml.findAll('title'):\n",
    "    print(eachItem.text)"
   ]
  },
  {
   "cell_type": "code",
   "execution_count": 11,
   "metadata": {},
   "outputs": [
    {
     "name": "stdout",
     "output_type": "stream",
     "text": [
      "https://www.yahoo.com/news/world\n",
      "https://www.yahoo.com/news/world\n",
      "https://news.yahoo.com/readers-write-versus-whom-gps-adventures-immigration-activist-100001122--politics.html\n",
      "https://news.yahoo.com/russian-internet-giant-yandex-takes-rare-stand-against-191958136.html\n",
      "https://news.yahoo.com/robots-job-killers-co-workers-190333823--politics.html\n",
      "https://news.yahoo.com/why-cuba-zip-lines-b-b-fallen-hard-183812571.html\n"
     ]
    }
   ],
   "source": [
    "# to reference without the tags\n",
    "# use text\n",
    "for eachItem in req_xml.findAll('link'):\n",
    "    print(eachItem.text)"
   ]
  },
  {
   "cell_type": "code",
   "execution_count": 12,
   "metadata": {},
   "outputs": [
    {
     "name": "stdout",
     "output_type": "stream",
     "text": [
      "####################\n"
     ]
    }
   ],
   "source": [
    "print(20 * \"#\")"
   ]
  },
  {
   "cell_type": "code",
   "execution_count": null,
   "metadata": {},
   "outputs": [],
   "source": []
  }
 ],
 "metadata": {
  "kernelspec": {
   "display_name": "Python 3",
   "language": "python",
   "name": "python3"
  },
  "language_info": {
   "codemirror_mode": {
    "name": "ipython",
    "version": 3
   },
   "file_extension": ".py",
   "mimetype": "text/x-python",
   "name": "python",
   "nbconvert_exporter": "python",
   "pygments_lexer": "ipython3",
   "version": "3.6.5"
  }
 },
 "nbformat": 4,
 "nbformat_minor": 2
}
