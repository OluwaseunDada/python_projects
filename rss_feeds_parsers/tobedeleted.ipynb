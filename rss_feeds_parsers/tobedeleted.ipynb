{
 "cells": [
  {
   "cell_type": "code",
   "execution_count": 2,
   "metadata": {},
   "outputs": [
    {
     "ename": "StopIteration",
     "evalue": "",
     "output_type": "error",
     "traceback": [
      "\u001b[1;31m---------------------------------------------------------------------------\u001b[0m",
      "\u001b[1;31mStopIteration\u001b[0m                             Traceback (most recent call last)",
      "\u001b[1;32m<ipython-input-2-3b57f25e2db1>\u001b[0m in \u001b[0;36m<module>\u001b[1;34m()\u001b[0m\n\u001b[0;32m     38\u001b[0m \u001b[1;32mwith\u001b[0m \u001b[0mopen\u001b[0m\u001b[1;33m(\u001b[0m\u001b[0mfname\u001b[0m\u001b[1;33m)\u001b[0m \u001b[1;32mas\u001b[0m \u001b[0mcsv_file\u001b[0m\u001b[1;33m:\u001b[0m\u001b[1;33m\u001b[0m\u001b[0m\n\u001b[0;32m     39\u001b[0m     \u001b[0mcsv_reader\u001b[0m \u001b[1;33m=\u001b[0m \u001b[0mcsv\u001b[0m\u001b[1;33m.\u001b[0m\u001b[0mreader\u001b[0m\u001b[1;33m(\u001b[0m\u001b[0mcsv_file\u001b[0m\u001b[1;33m,\u001b[0m \u001b[0mdelimiter\u001b[0m \u001b[1;33m=\u001b[0m \u001b[1;34m'\\t'\u001b[0m\u001b[1;33m)\u001b[0m\u001b[1;33m\u001b[0m\u001b[0m\n\u001b[1;32m---> 40\u001b[1;33m     \u001b[0mheader\u001b[0m \u001b[1;33m=\u001b[0m \u001b[0mnext\u001b[0m\u001b[1;33m(\u001b[0m\u001b[0mcsv_reader\u001b[0m\u001b[1;33m)\u001b[0m\u001b[1;33m\u001b[0m\u001b[0m\n\u001b[0m\u001b[0;32m     41\u001b[0m \u001b[1;33m\u001b[0m\u001b[0m\n\u001b[0;32m     42\u001b[0m     \u001b[0mnew_header\u001b[0m \u001b[1;33m=\u001b[0m \u001b[1;33m[\u001b[0m\u001b[0mheader\u001b[0m\u001b[1;33m[\u001b[0m\u001b[1;36m0\u001b[0m\u001b[1;33m]\u001b[0m\u001b[1;33m,\u001b[0m \u001b[1;34m'excludable'\u001b[0m\u001b[1;33m,\u001b[0m \u001b[1;34m'exclusion_reason'\u001b[0m\u001b[1;33m]\u001b[0m \u001b[1;33m+\u001b[0m \u001b[0mheader\u001b[0m\u001b[1;33m[\u001b[0m\u001b[1;36m1\u001b[0m\u001b[1;33m:\u001b[0m\u001b[1;33m]\u001b[0m\u001b[1;33m\u001b[0m\u001b[0m\n",
      "\u001b[1;31mStopIteration\u001b[0m: "
     ]
    }
   ],
   "source": [
    "    import csv\n",
    "    import sys\n",
    "\n",
    "\n",
    "    def mkString(xs, sep):\n",
    "        return sep.join(map(str,xs))\n",
    "\n",
    "    def assign(var, val):\n",
    "        globals()[var] = val\n",
    "\n",
    "\n",
    "    def convert(val):\n",
    "        try:\n",
    "            return float(val)\n",
    "        except:\n",
    "            return str(val)\n",
    "\n",
    "\n",
    "    def is_exclude(header, variant, excl_filters):\n",
    "        for (h,v) in zip(header,variant):\n",
    "            assign(h, convert(v))\n",
    "\n",
    "        reasons = [ filter for filter in excl_filters if eval(filter) ] # CAUTION\n",
    "        is_excluded = len(reasons) > 0\n",
    "\n",
    "        return (is_excluded, reasons)\n",
    "\n",
    "\n",
    "    fname = 'AxiomGT1.calls_1000g_merged_filter_table.txt'\n",
    "    filters_file = 'AxiomGT1.calls_1000g.exclusion_list.txt'\n",
    "\n",
    "    exclusion_list_file = open('AxiomGT1.calls_1000g_merged_filter_table.txt', 'w')\n",
    "    filtered_file = open('AxiomGT1.calls_1000g_merged_filter_table.txt', 'w')\n",
    "\n",
    "    # example: excl_filters = ['cr < 0.9', 'hwe < 10e-6', 'cr < 0.95 if hwe < 10e-5 else cr < 0.98']\n",
    "    excl_filters = list(map(str.strip, open(filters_file, \"r\").readlines()))\n",
    "\n",
    "    with open(fname) as csv_file:\n",
    "        csv_reader = csv.reader(csv_file, delimiter = '\\t')\n",
    "        header = next(csv_reader)\n",
    "\n",
    "        new_header = [header[0], 'excludable', 'exclusion_reason'] + header[1:]\n",
    "        filtered_file.write(mkString(new_header, '\\t') + '\\n')\n",
    "\n",
    "        for variant in csv_reader:\n",
    "            (is_excluded, reasons) = is_exclude(header, variant, excl_filters)\n",
    "\n",
    "            fmt_reasons = '\"'+mkString(reasons, '; ')+'\"' if is_excluded else 'NA'\n",
    "            new_row = [variant[0], is_excluded, fmt_reasons] + variant[1:]\n",
    "            filtered_file.write(mkString(new_row, '\\t') + '\\n')\n",
    "\n",
    "            if is_excluded:\n",
    "                exclusion_list_file.write(variant[0] + '\\n')\n",
    "\n",
    "    exclusion_list_file.close()"
   ]
  },
  {
   "cell_type": "code",
   "execution_count": null,
   "metadata": {},
   "outputs": [],
   "source": []
  }
 ],
 "metadata": {
  "kernelspec": {
   "display_name": "Python 3",
   "language": "python",
   "name": "python3"
  },
  "language_info": {
   "codemirror_mode": {
    "name": "ipython",
    "version": 3
   },
   "file_extension": ".py",
   "mimetype": "text/x-python",
   "name": "python",
   "nbconvert_exporter": "python",
   "pygments_lexer": "ipython3",
   "version": "3.6.5"
  }
 },
 "nbformat": 4,
 "nbformat_minor": 2
}
